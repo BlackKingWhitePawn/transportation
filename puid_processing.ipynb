{
 "cells": [
  {
   "cell_type": "markdown",
   "metadata": {},
   "source": [
    "# Обработка данных с датчика\n",
    "\n",
    "Необходимо автоматически выявлять и заполнять следующие аномалии в данных\n",
    "- пропуски\n",
    "- выбросы "
   ]
  },
  {
   "cell_type": "markdown",
   "metadata": {},
   "source": [
    "## Первичный анализ данных за год"
   ]
  },
  {
   "cell_type": "markdown",
   "metadata": {},
   "source": [
    "### Загрузка и преобразование данных"
   ]
  },
  {
   "cell_type": "code",
   "execution_count": 7,
   "metadata": {},
   "outputs": [],
   "source": [
    "import pandas as pd\n",
    "import ast\n",
    "import json"
   ]
  },
  {
   "cell_type": "code",
   "execution_count": 3,
   "metadata": {},
   "outputs": [],
   "source": [
    "puid_df = pd.read_csv('data/p9445_2024.csv')"
   ]
  },
  {
   "cell_type": "code",
   "execution_count": 4,
   "metadata": {},
   "outputs": [],
   "source": [
    "puid_df['keys'] = puid_df['keys'].apply(ast.literal_eval)\n",
    "puid_df['values'] = puid_df['values'].apply(ast.literal_eval)\n",
    "puid_df['meta'] = puid_df['meta'].apply(ast.literal_eval)"
   ]
  },
  {
   "cell_type": "code",
   "execution_count": 5,
   "metadata": {},
   "outputs": [
    {
     "data": {
      "text/html": [
       "<div>\n",
       "<style scoped>\n",
       "    .dataframe tbody tr th:only-of-type {\n",
       "        vertical-align: middle;\n",
       "    }\n",
       "\n",
       "    .dataframe tbody tr th {\n",
       "        vertical-align: top;\n",
       "    }\n",
       "\n",
       "    .dataframe thead th {\n",
       "        text-align: right;\n",
       "    }\n",
       "</style>\n",
       "<table border=\"1\" class=\"dataframe\">\n",
       "  <thead>\n",
       "    <tr style=\"text-align: right;\">\n",
       "      <th></th>\n",
       "      <th>ts</th>\n",
       "      <th>__insert_ts</th>\n",
       "      <th>keys</th>\n",
       "      <th>values</th>\n",
       "      <th>meta</th>\n",
       "      <th>anomaly</th>\n",
       "    </tr>\n",
       "  </thead>\n",
       "  <tbody>\n",
       "    <tr>\n",
       "      <th>0</th>\n",
       "      <td>2024-05-10 05:20:00</td>\n",
       "      <td>2024-05-13 05:21:06</td>\n",
       "      <td>[[volume, c1, c2, c3, c4, c5, c6, c7, speed, o...</td>\n",
       "      <td>[[30, 9, 14, 3, 1, 2, 1, null, 78.53125, 3.847...</td>\n",
       "      <td>[{\"direction\":1,\"lane\":1}, {\"direction\":1,\"lan...</td>\n",
       "      <td>[]</td>\n",
       "    </tr>\n",
       "    <tr>\n",
       "      <th>1</th>\n",
       "      <td>2024-05-10 05:25:00</td>\n",
       "      <td>2024-05-13 05:21:06</td>\n",
       "      <td>[[volume, c1, c2, c3, c4, c5, c6, c7, speed, o...</td>\n",
       "      <td>[[30, 14, 14, 2, 0, 0, 0, null, 80.55469, 3.10...</td>\n",
       "      <td>[{\"direction\":1,\"lane\":1}, {\"direction\":1,\"lan...</td>\n",
       "      <td>[]</td>\n",
       "    </tr>\n",
       "    <tr>\n",
       "      <th>2</th>\n",
       "      <td>2024-05-10 05:30:00</td>\n",
       "      <td>2024-05-13 05:21:06</td>\n",
       "      <td>[[volume, c1, c2, c3, c4, c5, c6, c7, speed, o...</td>\n",
       "      <td>[[44, 28, 15, 0, 0, 1, 0, null, 78.80859, 4.62...</td>\n",
       "      <td>[{\"direction\":1,\"lane\":1}, {\"direction\":1,\"lan...</td>\n",
       "      <td>[]</td>\n",
       "    </tr>\n",
       "    <tr>\n",
       "      <th>3</th>\n",
       "      <td>2024-05-10 05:35:00</td>\n",
       "      <td>2024-05-13 05:21:06</td>\n",
       "      <td>[[volume, c1, c2, c3, c4, c5, c6, c7, speed, o...</td>\n",
       "      <td>[[40, 26, 11, 1, 0, 2, 0, null, 75.41797, 4.60...</td>\n",
       "      <td>[{\"direction\":1,\"lane\":1}, {\"direction\":1,\"lan...</td>\n",
       "      <td>[]</td>\n",
       "    </tr>\n",
       "    <tr>\n",
       "      <th>4</th>\n",
       "      <td>2024-05-10 05:40:00</td>\n",
       "      <td>2024-05-13 05:21:06</td>\n",
       "      <td>[[volume, c1, c2, c3, c4, c5, c6, c7, speed, o...</td>\n",
       "      <td>[[36, 18, 14, 1, 0, 2, 1, null, 86.62891, 4.08...</td>\n",
       "      <td>[{\"direction\":1,\"lane\":1}, {\"direction\":1,\"lan...</td>\n",
       "      <td>[]</td>\n",
       "    </tr>\n",
       "  </tbody>\n",
       "</table>\n",
       "</div>"
      ],
      "text/plain": [
       "                    ts          __insert_ts  \\\n",
       "0  2024-05-10 05:20:00  2024-05-13 05:21:06   \n",
       "1  2024-05-10 05:25:00  2024-05-13 05:21:06   \n",
       "2  2024-05-10 05:30:00  2024-05-13 05:21:06   \n",
       "3  2024-05-10 05:35:00  2024-05-13 05:21:06   \n",
       "4  2024-05-10 05:40:00  2024-05-13 05:21:06   \n",
       "\n",
       "                                                keys  \\\n",
       "0  [[volume, c1, c2, c3, c4, c5, c6, c7, speed, o...   \n",
       "1  [[volume, c1, c2, c3, c4, c5, c6, c7, speed, o...   \n",
       "2  [[volume, c1, c2, c3, c4, c5, c6, c7, speed, o...   \n",
       "3  [[volume, c1, c2, c3, c4, c5, c6, c7, speed, o...   \n",
       "4  [[volume, c1, c2, c3, c4, c5, c6, c7, speed, o...   \n",
       "\n",
       "                                              values  \\\n",
       "0  [[30, 9, 14, 3, 1, 2, 1, null, 78.53125, 3.847...   \n",
       "1  [[30, 14, 14, 2, 0, 0, 0, null, 80.55469, 3.10...   \n",
       "2  [[44, 28, 15, 0, 0, 1, 0, null, 78.80859, 4.62...   \n",
       "3  [[40, 26, 11, 1, 0, 2, 0, null, 75.41797, 4.60...   \n",
       "4  [[36, 18, 14, 1, 0, 2, 1, null, 86.62891, 4.08...   \n",
       "\n",
       "                                                meta anomaly  \n",
       "0  [{\"direction\":1,\"lane\":1}, {\"direction\":1,\"lan...      []  \n",
       "1  [{\"direction\":1,\"lane\":1}, {\"direction\":1,\"lan...      []  \n",
       "2  [{\"direction\":1,\"lane\":1}, {\"direction\":1,\"lan...      []  \n",
       "3  [{\"direction\":1,\"lane\":1}, {\"direction\":1,\"lan...      []  \n",
       "4  [{\"direction\":1,\"lane\":1}, {\"direction\":1,\"lan...      []  "
      ]
     },
     "execution_count": 5,
     "metadata": {},
     "output_type": "execute_result"
    }
   ],
   "source": [
    "puid_df[:5]"
   ]
  },
  {
   "cell_type": "markdown",
   "metadata": {},
   "source": [
    "### Парсинг столбцов\n",
    "\n",
    "- meta - список источников данных. От каждого источника поступает набор данных перечисленных в keys \n",
    "- keys - наборы ключей для каждого источника. К примеру если meta длины 4 то keys тоже длины 4 и каждый элемент keys - список, содержащий наблюдаемые параметры\n",
    "- values - значения параметров. Размерность совпадает с keys"
   ]
  },
  {
   "cell_type": "markdown",
   "metadata": {},
   "source": [
    "Извлечение метаданных. Они константные для датчика"
   ]
  },
  {
   "cell_type": "code",
   "execution_count": 14,
   "metadata": {},
   "outputs": [
    {
     "data": {
      "text/plain": [
       "[{'direction': 1, 'lane': 1},\n",
       " {'direction': 1, 'lane': 2},\n",
       " {'direction': 0, 'lane': 1},\n",
       " {'direction': 0, 'lane': 2}]"
      ]
     },
     "execution_count": 14,
     "metadata": {},
     "output_type": "execute_result"
    }
   ],
   "source": [
    "meta = list(map(json.loads, puid_df['meta'][0]))\n",
    "meta"
   ]
  },
  {
   "cell_type": "code",
   "execution_count": 18,
   "metadata": {},
   "outputs": [
    {
     "data": {
      "text/plain": [
       "['Прямое, полоса 1',\n",
       " 'Прямое, полоса 2',\n",
       " 'Обратное, полоса 1',\n",
       " 'Обратное, полоса 2']"
      ]
     },
     "execution_count": 18,
     "metadata": {},
     "output_type": "execute_result"
    }
   ],
   "source": [
    "titles = list(map(lambda x: f'{\"Прямое\" if  x[\"direction\"] == 1 else \"Обратное\"}, полоса {x[\"lane\"]}', meta))\n",
    "titles"
   ]
  },
  {
   "cell_type": "markdown",
   "metadata": {},
   "source": [
    "Маппинг значений по ключам. Для начала будем использовать только основные параметры\n",
    "- volume\n",
    "- speed \n",
    "- occupancy"
   ]
  },
  {
   "cell_type": "code",
   "execution_count": 59,
   "metadata": {},
   "outputs": [
    {
     "data": {
      "text/plain": [
       "[0, 8, 9]"
      ]
     },
     "execution_count": 59,
     "metadata": {},
     "output_type": "execute_result"
    }
   ],
   "source": [
    "keys = puid_df['keys'][0][0]\n",
    "general_key_indices = [keys.index('volume'), keys.index('speed'), keys.index('occupancy')]\n",
    "general_key_indices"
   ]
  },
  {
   "cell_type": "code",
   "execution_count": 61,
   "metadata": {},
   "outputs": [
    {
     "data": {
      "text/html": [
       "<div>\n",
       "<style scoped>\n",
       "    .dataframe tbody tr th:only-of-type {\n",
       "        vertical-align: middle;\n",
       "    }\n",
       "\n",
       "    .dataframe tbody tr th {\n",
       "        vertical-align: top;\n",
       "    }\n",
       "\n",
       "    .dataframe thead th {\n",
       "        text-align: right;\n",
       "    }\n",
       "</style>\n",
       "<table border=\"1\" class=\"dataframe\">\n",
       "  <thead>\n",
       "    <tr style=\"text-align: right;\">\n",
       "      <th></th>\n",
       "      <th>ts</th>\n",
       "      <th>volume</th>\n",
       "      <th>speed</th>\n",
       "      <th>occupancy</th>\n",
       "    </tr>\n",
       "  </thead>\n",
       "  <tbody>\n",
       "    <tr>\n",
       "      <th>0</th>\n",
       "      <td>2024-05-10 05:20:00</td>\n",
       "      <td>30</td>\n",
       "      <td>78.53125</td>\n",
       "      <td>3.8476562</td>\n",
       "    </tr>\n",
       "    <tr>\n",
       "      <th>1</th>\n",
       "      <td>2024-05-10 05:25:00</td>\n",
       "      <td>30</td>\n",
       "      <td>80.55469</td>\n",
       "      <td>3.1054688</td>\n",
       "    </tr>\n",
       "    <tr>\n",
       "      <th>2</th>\n",
       "      <td>2024-05-10 05:30:00</td>\n",
       "      <td>44</td>\n",
       "      <td>78.80859</td>\n",
       "      <td>4.6289062</td>\n",
       "    </tr>\n",
       "    <tr>\n",
       "      <th>3</th>\n",
       "      <td>2024-05-10 05:35:00</td>\n",
       "      <td>40</td>\n",
       "      <td>75.41797</td>\n",
       "      <td>4.609375</td>\n",
       "    </tr>\n",
       "    <tr>\n",
       "      <th>4</th>\n",
       "      <td>2024-05-10 05:40:00</td>\n",
       "      <td>36</td>\n",
       "      <td>86.62891</td>\n",
       "      <td>4.0820312</td>\n",
       "    </tr>\n",
       "  </tbody>\n",
       "</table>\n",
       "</div>"
      ],
      "text/plain": [
       "                    ts volume     speed  occupancy\n",
       "0  2024-05-10 05:20:00     30  78.53125  3.8476562\n",
       "1  2024-05-10 05:25:00     30  80.55469  3.1054688\n",
       "2  2024-05-10 05:30:00     44  78.80859  4.6289062\n",
       "3  2024-05-10 05:35:00     40  75.41797   4.609375\n",
       "4  2024-05-10 05:40:00     36  86.62891  4.0820312"
      ]
     },
     "execution_count": 61,
     "metadata": {},
     "output_type": "execute_result"
    }
   ],
   "source": [
    "def get_processor(source_index):\n",
    "    def process_keys(row):\n",
    "        return pd.Series(map(lambda i: row['values'][source_index][i], general_key_indices), index=map(lambda i: keys[i], general_key_indices))\n",
    "    \n",
    "    return process_keys\n",
    "\n",
    "params_df =  test_df.apply(get_processor(0), axis=1)\n",
    "pd.concat([test_df['ts'], params_df], axis=1)"
   ]
  }
 ],
 "metadata": {
  "kernelspec": {
   "display_name": "base",
   "language": "python",
   "name": "python3"
  },
  "language_info": {
   "codemirror_mode": {
    "name": "ipython",
    "version": 3
   },
   "file_extension": ".py",
   "mimetype": "text/x-python",
   "name": "python",
   "nbconvert_exporter": "python",
   "pygments_lexer": "ipython3",
   "version": "3.9.13"
  }
 },
 "nbformat": 4,
 "nbformat_minor": 2
}
