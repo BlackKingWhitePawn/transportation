{
 "cells": [
  {
   "cell_type": "markdown",
   "metadata": {},
   "source": [
    "# Обработка данных с датчика\n",
    "\n",
    "Необходимо автоматически выявлять и заполнять следующие аномалии в данных\n",
    "- пропуски\n",
    "- выбросы "
   ]
  },
  {
   "cell_type": "markdown",
   "metadata": {},
   "source": [
    "## Первичный анализ данных за год"
   ]
  },
  {
   "cell_type": "markdown",
   "metadata": {},
   "source": [
    "### Загрузка и преобразование данных"
   ]
  },
  {
   "cell_type": "code",
   "execution_count": 66,
   "metadata": {},
   "outputs": [],
   "source": [
    "import pandas as pd\n",
    "import ast\n",
    "import json\n",
    "import seaborn as sns\n",
    "\n",
    "sns.set_theme()"
   ]
  },
  {
   "cell_type": "code",
   "execution_count": 67,
   "metadata": {},
   "outputs": [],
   "source": [
    "puid_df = pd.read_csv('samples/p9445_2024.csv')"
   ]
  },
  {
   "cell_type": "code",
   "execution_count": 68,
   "metadata": {},
   "outputs": [],
   "source": [
    "puid_df['keys'] = puid_df['keys'].apply(ast.literal_eval)\n",
    "puid_df['values'] = puid_df['values'].apply(ast.literal_eval)\n",
    "puid_df['meta'] = puid_df['meta'].apply(ast.literal_eval)"
   ]
  },
  {
   "cell_type": "code",
   "execution_count": 69,
   "metadata": {},
   "outputs": [
    {
     "data": {
      "text/html": [
       "<div>\n",
       "<style scoped>\n",
       "    .dataframe tbody tr th:only-of-type {\n",
       "        vertical-align: middle;\n",
       "    }\n",
       "\n",
       "    .dataframe tbody tr th {\n",
       "        vertical-align: top;\n",
       "    }\n",
       "\n",
       "    .dataframe thead th {\n",
       "        text-align: right;\n",
       "    }\n",
       "</style>\n",
       "<table border=\"1\" class=\"dataframe\">\n",
       "  <thead>\n",
       "    <tr style=\"text-align: right;\">\n",
       "      <th></th>\n",
       "      <th>ts</th>\n",
       "      <th>__insert_ts</th>\n",
       "      <th>keys</th>\n",
       "      <th>values</th>\n",
       "      <th>meta</th>\n",
       "      <th>anomaly</th>\n",
       "    </tr>\n",
       "  </thead>\n",
       "  <tbody>\n",
       "    <tr>\n",
       "      <th>0</th>\n",
       "      <td>2024-05-10 05:20:00</td>\n",
       "      <td>2024-05-13 05:21:06</td>\n",
       "      <td>[[volume, c1, c2, c3, c4, c5, c6, c7, speed, o...</td>\n",
       "      <td>[[30, 9, 14, 3, 1, 2, 1, null, 78.53125, 3.847...</td>\n",
       "      <td>[{\"direction\":1,\"lane\":1}, {\"direction\":1,\"lan...</td>\n",
       "      <td>[]</td>\n",
       "    </tr>\n",
       "    <tr>\n",
       "      <th>1</th>\n",
       "      <td>2024-05-10 05:25:00</td>\n",
       "      <td>2024-05-13 05:21:06</td>\n",
       "      <td>[[volume, c1, c2, c3, c4, c5, c6, c7, speed, o...</td>\n",
       "      <td>[[30, 14, 14, 2, 0, 0, 0, null, 80.55469, 3.10...</td>\n",
       "      <td>[{\"direction\":1,\"lane\":1}, {\"direction\":1,\"lan...</td>\n",
       "      <td>[]</td>\n",
       "    </tr>\n",
       "    <tr>\n",
       "      <th>2</th>\n",
       "      <td>2024-05-10 05:30:00</td>\n",
       "      <td>2024-05-13 05:21:06</td>\n",
       "      <td>[[volume, c1, c2, c3, c4, c5, c6, c7, speed, o...</td>\n",
       "      <td>[[44, 28, 15, 0, 0, 1, 0, null, 78.80859, 4.62...</td>\n",
       "      <td>[{\"direction\":1,\"lane\":1}, {\"direction\":1,\"lan...</td>\n",
       "      <td>[]</td>\n",
       "    </tr>\n",
       "    <tr>\n",
       "      <th>3</th>\n",
       "      <td>2024-05-10 05:35:00</td>\n",
       "      <td>2024-05-13 05:21:06</td>\n",
       "      <td>[[volume, c1, c2, c3, c4, c5, c6, c7, speed, o...</td>\n",
       "      <td>[[40, 26, 11, 1, 0, 2, 0, null, 75.41797, 4.60...</td>\n",
       "      <td>[{\"direction\":1,\"lane\":1}, {\"direction\":1,\"lan...</td>\n",
       "      <td>[]</td>\n",
       "    </tr>\n",
       "    <tr>\n",
       "      <th>4</th>\n",
       "      <td>2024-05-10 05:40:00</td>\n",
       "      <td>2024-05-13 05:21:06</td>\n",
       "      <td>[[volume, c1, c2, c3, c4, c5, c6, c7, speed, o...</td>\n",
       "      <td>[[36, 18, 14, 1, 0, 2, 1, null, 86.62891, 4.08...</td>\n",
       "      <td>[{\"direction\":1,\"lane\":1}, {\"direction\":1,\"lan...</td>\n",
       "      <td>[]</td>\n",
       "    </tr>\n",
       "  </tbody>\n",
       "</table>\n",
       "</div>"
      ],
      "text/plain": [
       "                    ts          __insert_ts  \\\n",
       "0  2024-05-10 05:20:00  2024-05-13 05:21:06   \n",
       "1  2024-05-10 05:25:00  2024-05-13 05:21:06   \n",
       "2  2024-05-10 05:30:00  2024-05-13 05:21:06   \n",
       "3  2024-05-10 05:35:00  2024-05-13 05:21:06   \n",
       "4  2024-05-10 05:40:00  2024-05-13 05:21:06   \n",
       "\n",
       "                                                keys  \\\n",
       "0  [[volume, c1, c2, c3, c4, c5, c6, c7, speed, o...   \n",
       "1  [[volume, c1, c2, c3, c4, c5, c6, c7, speed, o...   \n",
       "2  [[volume, c1, c2, c3, c4, c5, c6, c7, speed, o...   \n",
       "3  [[volume, c1, c2, c3, c4, c5, c6, c7, speed, o...   \n",
       "4  [[volume, c1, c2, c3, c4, c5, c6, c7, speed, o...   \n",
       "\n",
       "                                              values  \\\n",
       "0  [[30, 9, 14, 3, 1, 2, 1, null, 78.53125, 3.847...   \n",
       "1  [[30, 14, 14, 2, 0, 0, 0, null, 80.55469, 3.10...   \n",
       "2  [[44, 28, 15, 0, 0, 1, 0, null, 78.80859, 4.62...   \n",
       "3  [[40, 26, 11, 1, 0, 2, 0, null, 75.41797, 4.60...   \n",
       "4  [[36, 18, 14, 1, 0, 2, 1, null, 86.62891, 4.08...   \n",
       "\n",
       "                                                meta anomaly  \n",
       "0  [{\"direction\":1,\"lane\":1}, {\"direction\":1,\"lan...      []  \n",
       "1  [{\"direction\":1,\"lane\":1}, {\"direction\":1,\"lan...      []  \n",
       "2  [{\"direction\":1,\"lane\":1}, {\"direction\":1,\"lan...      []  \n",
       "3  [{\"direction\":1,\"lane\":1}, {\"direction\":1,\"lan...      []  \n",
       "4  [{\"direction\":1,\"lane\":1}, {\"direction\":1,\"lan...      []  "
      ]
     },
     "execution_count": 69,
     "metadata": {},
     "output_type": "execute_result"
    }
   ],
   "source": [
    "puid_df[:5]"
   ]
  },
  {
   "cell_type": "markdown",
   "metadata": {},
   "source": [
    "### Парсинг столбцов\n",
    "\n",
    "- meta - список источников данных. От каждого источника поступает набор данных перечисленных в keys \n",
    "- keys - наборы ключей для каждого источника. К примеру если meta длины 4 то keys тоже длины 4 и каждый элемент keys - список, содержащий наблюдаемые параметры\n",
    "- values - значения параметров. Размерность совпадает с keys"
   ]
  },
  {
   "cell_type": "markdown",
   "metadata": {},
   "source": [
    "Извлечение метаданных. Они константные для датчика"
   ]
  },
  {
   "cell_type": "code",
   "execution_count": 70,
   "metadata": {},
   "outputs": [
    {
     "data": {
      "text/plain": [
       "[{'direction': 1, 'lane': 1},\n",
       " {'direction': 1, 'lane': 2},\n",
       " {'direction': 0, 'lane': 1},\n",
       " {'direction': 0, 'lane': 2}]"
      ]
     },
     "execution_count": 70,
     "metadata": {},
     "output_type": "execute_result"
    }
   ],
   "source": [
    "meta = list(map(json.loads, puid_df['meta'][0]))\n",
    "meta"
   ]
  },
  {
   "cell_type": "code",
   "execution_count": 71,
   "metadata": {},
   "outputs": [
    {
     "data": {
      "text/plain": [
       "['Прямое, полоса 1',\n",
       " 'Прямое, полоса 2',\n",
       " 'Обратное, полоса 1',\n",
       " 'Обратное, полоса 2']"
      ]
     },
     "execution_count": 71,
     "metadata": {},
     "output_type": "execute_result"
    }
   ],
   "source": [
    "titles = list(map(lambda x: f'{\"Прямое\" if  x[\"direction\"] == 1 else \"Обратное\"}, полоса {x[\"lane\"]}', meta))\n",
    "titles"
   ]
  },
  {
   "cell_type": "markdown",
   "metadata": {},
   "source": [
    "Маппинг значений по ключам. Для начала будем использовать только основные параметры\n",
    "- volume\n",
    "- speed \n",
    "- occupancy"
   ]
  },
  {
   "cell_type": "code",
   "execution_count": 72,
   "metadata": {},
   "outputs": [
    {
     "data": {
      "text/plain": [
       "[0, 8, 9]"
      ]
     },
     "execution_count": 72,
     "metadata": {},
     "output_type": "execute_result"
    }
   ],
   "source": [
    "keys = puid_df['keys'][0][0]\n",
    "general_key_indices = [keys.index('volume'), keys.index('speed'), keys.index('occupancy')]\n",
    "general_key_indices"
   ]
  },
  {
   "cell_type": "code",
   "execution_count": 73,
   "metadata": {},
   "outputs": [],
   "source": [
    "# получение значений из первого источника в meta\n",
    "def get_processor(source_index):\n",
    "    def process_keys(row):\n",
    "        return pd.Series(map(lambda i: pd.to_numeric(row['values'][source_index][i], errors='coerce'), general_key_indices), index=map(lambda i: keys[i], general_key_indices))\n",
    "    \n",
    "    return process_keys\n",
    "\n",
    "params_df =  puid_df.apply(get_processor(0), axis=1)\n",
    "puid_source_0 = pd.concat([puid_df['ts'], params_df], axis=1)"
   ]
  },
  {
   "cell_type": "code",
   "execution_count": 74,
   "metadata": {},
   "outputs": [],
   "source": [
    "puid_source_0['ts'] = pd.to_datetime(puid_source_0['ts'])\n",
    "puid_source_0.set_index('ts', inplace=True)\n",
    "puid_source_0.index = pd.to_datetime(puid_source_0.index)"
   ]
  },
  {
   "cell_type": "code",
   "execution_count": 75,
   "metadata": {},
   "outputs": [
    {
     "data": {
      "text/plain": [
       "volume       float64\n",
       "speed        float64\n",
       "occupancy    float64\n",
       "dtype: object"
      ]
     },
     "execution_count": 75,
     "metadata": {},
     "output_type": "execute_result"
    }
   ],
   "source": [
    "puid_source_0.dtypes"
   ]
  },
  {
   "cell_type": "code",
   "execution_count": 76,
   "metadata": {},
   "outputs": [
    {
     "data": {
      "text/plain": [
       "dtype('<M8[ns]')"
      ]
     },
     "execution_count": 76,
     "metadata": {},
     "output_type": "execute_result"
    }
   ],
   "source": [
    "puid_source_0.index.dtype"
   ]
  },
  {
   "cell_type": "code",
   "execution_count": 77,
   "metadata": {},
   "outputs": [
    {
     "data": {
      "text/plain": [
       "<Axes: xlabel='ts'>"
      ]
     },
     "execution_count": 77,
     "metadata": {},
     "output_type": "execute_result"
    },
    {
     "data": {
      "image/png": "[encoded data removed]",
      "text/plain": [
       "<Figure size 640x480 with 1 Axes>"
      ]
     },
     "metadata": {},
     "output_type": "display_data"
    }
   ],
   "source": [
    "puid_source_0.plot()"
   ]
  },
  {
   "cell_type": "code",
   "execution_count": 78,
   "metadata": {},
   "outputs": [
    {
     "data": {
      "text/html": [
       "<div>\n",
       "<style scoped>\n",
       "    .dataframe tbody tr th:only-of-type {\n",
       "        vertical-align: middle;\n",
       "    }\n",
       "\n",
       "    .dataframe tbody tr th {\n",
       "        vertical-align: top;\n",
       "    }\n",
       "\n",
       "    .dataframe thead th {\n",
       "        text-align: right;\n",
       "    }\n",
       "</style>\n",
       "<table border=\"1\" class=\"dataframe\">\n",
       "  <thead>\n",
       "    <tr style=\"text-align: right;\">\n",
       "      <th></th>\n",
       "      <th>volume</th>\n",
       "      <th>speed</th>\n",
       "      <th>occupancy</th>\n",
       "    </tr>\n",
       "    <tr>\n",
       "      <th>ts</th>\n",
       "      <th></th>\n",
       "      <th></th>\n",
       "      <th></th>\n",
       "    </tr>\n",
       "  </thead>\n",
       "  <tbody>\n",
       "    <tr>\n",
       "      <th>2024-05-10 05:20:00</th>\n",
       "      <td>30.0</td>\n",
       "      <td>78.531250</td>\n",
       "      <td>3.847656</td>\n",
       "    </tr>\n",
       "    <tr>\n",
       "      <th>2024-05-10 05:25:00</th>\n",
       "      <td>30.0</td>\n",
       "      <td>80.554690</td>\n",
       "      <td>3.105469</td>\n",
       "    </tr>\n",
       "    <tr>\n",
       "      <th>2024-05-10 05:30:00</th>\n",
       "      <td>44.0</td>\n",
       "      <td>78.808590</td>\n",
       "      <td>4.628906</td>\n",
       "    </tr>\n",
       "    <tr>\n",
       "      <th>2024-05-10 05:35:00</th>\n",
       "      <td>40.0</td>\n",
       "      <td>75.417970</td>\n",
       "      <td>4.609375</td>\n",
       "    </tr>\n",
       "    <tr>\n",
       "      <th>2024-05-10 05:40:00</th>\n",
       "      <td>36.0</td>\n",
       "      <td>86.628910</td>\n",
       "      <td>4.082031</td>\n",
       "    </tr>\n",
       "    <tr>\n",
       "      <th>2024-05-10 05:45:00</th>\n",
       "      <td>38.0</td>\n",
       "      <td>76.582030</td>\n",
       "      <td>4.523438</td>\n",
       "    </tr>\n",
       "    <tr>\n",
       "      <th>2024-05-10 05:50:00</th>\n",
       "      <td>44.0</td>\n",
       "      <td>80.183590</td>\n",
       "      <td>4.558594</td>\n",
       "    </tr>\n",
       "    <tr>\n",
       "      <th>2024-05-10 05:55:00</th>\n",
       "      <td>35.0</td>\n",
       "      <td>83.546875</td>\n",
       "      <td>3.691406</td>\n",
       "    </tr>\n",
       "    <tr>\n",
       "      <th>2024-05-10 06:00:00</th>\n",
       "      <td>30.0</td>\n",
       "      <td>79.605470</td>\n",
       "      <td>3.121094</td>\n",
       "    </tr>\n",
       "    <tr>\n",
       "      <th>2024-05-10 06:05:00</th>\n",
       "      <td>42.0</td>\n",
       "      <td>75.609375</td>\n",
       "      <td>4.773438</td>\n",
       "    </tr>\n",
       "  </tbody>\n",
       "</table>\n",
       "</div>"
      ],
      "text/plain": [
       "                     volume      speed  occupancy\n",
       "ts                                               \n",
       "2024-05-10 05:20:00    30.0  78.531250   3.847656\n",
       "2024-05-10 05:25:00    30.0  80.554690   3.105469\n",
       "2024-05-10 05:30:00    44.0  78.808590   4.628906\n",
       "2024-05-10 05:35:00    40.0  75.417970   4.609375\n",
       "2024-05-10 05:40:00    36.0  86.628910   4.082031\n",
       "2024-05-10 05:45:00    38.0  76.582030   4.523438\n",
       "2024-05-10 05:50:00    44.0  80.183590   4.558594\n",
       "2024-05-10 05:55:00    35.0  83.546875   3.691406\n",
       "2024-05-10 06:00:00    30.0  79.605470   3.121094\n",
       "2024-05-10 06:05:00    42.0  75.609375   4.773438"
      ]
     },
     "execution_count": 78,
     "metadata": {},
     "output_type": "execute_result"
    }
   ],
   "source": [
    "puid_source_0[:10]"
   ]
  },
  {
   "cell_type": "code",
   "execution_count": 79,
   "metadata": {},
   "outputs": [
    {
     "data": {
      "text/html": [
       "<div>\n",
       "<style scoped>\n",
       "    .dataframe tbody tr th:only-of-type {\n",
       "        vertical-align: middle;\n",
       "    }\n",
       "\n",
       "    .dataframe tbody tr th {\n",
       "        vertical-align: top;\n",
       "    }\n",
       "\n",
       "    .dataframe thead th {\n",
       "        text-align: right;\n",
       "    }\n",
       "</style>\n",
       "<table border=\"1\" class=\"dataframe\">\n",
       "  <thead>\n",
       "    <tr style=\"text-align: right;\">\n",
       "      <th></th>\n",
       "      <th>volume</th>\n",
       "      <th>speed</th>\n",
       "      <th>occupancy</th>\n",
       "    </tr>\n",
       "  </thead>\n",
       "  <tbody>\n",
       "    <tr>\n",
       "      <th>count</th>\n",
       "      <td>62749.000000</td>\n",
       "      <td>62749.000000</td>\n",
       "      <td>62749.000000</td>\n",
       "    </tr>\n",
       "    <tr>\n",
       "      <th>mean</th>\n",
       "      <td>55.142520</td>\n",
       "      <td>71.377247</td>\n",
       "      <td>8.536781</td>\n",
       "    </tr>\n",
       "    <tr>\n",
       "      <th>std</th>\n",
       "      <td>32.361313</td>\n",
       "      <td>12.441948</td>\n",
       "      <td>8.634890</td>\n",
       "    </tr>\n",
       "    <tr>\n",
       "      <th>min</th>\n",
       "      <td>0.000000</td>\n",
       "      <td>0.484375</td>\n",
       "      <td>0.000000</td>\n",
       "    </tr>\n",
       "    <tr>\n",
       "      <th>25%</th>\n",
       "      <td>28.000000</td>\n",
       "      <td>69.050780</td>\n",
       "      <td>3.484375</td>\n",
       "    </tr>\n",
       "    <tr>\n",
       "      <th>50%</th>\n",
       "      <td>51.000000</td>\n",
       "      <td>73.664060</td>\n",
       "      <td>6.410156</td>\n",
       "    </tr>\n",
       "    <tr>\n",
       "      <th>75%</th>\n",
       "      <td>82.000000</td>\n",
       "      <td>77.882810</td>\n",
       "      <td>10.351562</td>\n",
       "    </tr>\n",
       "    <tr>\n",
       "      <th>max</th>\n",
       "      <td>143.000000</td>\n",
       "      <td>120.000000</td>\n",
       "      <td>100.000000</td>\n",
       "    </tr>\n",
       "  </tbody>\n",
       "</table>\n",
       "</div>"
      ],
      "text/plain": [
       "             volume         speed     occupancy\n",
       "count  62749.000000  62749.000000  62749.000000\n",
       "mean      55.142520     71.377247      8.536781\n",
       "std       32.361313     12.441948      8.634890\n",
       "min        0.000000      0.484375      0.000000\n",
       "25%       28.000000     69.050780      3.484375\n",
       "50%       51.000000     73.664060      6.410156\n",
       "75%       82.000000     77.882810     10.351562\n",
       "max      143.000000    120.000000    100.000000"
      ]
     },
     "execution_count": 79,
     "metadata": {},
     "output_type": "execute_result"
    }
   ],
   "source": [
    "puid_source_0.describe()"
   ]
  },
  {
   "cell_type": "markdown",
   "metadata": {},
   "source": [
    "## Поиск пропущенных значений "
   ]
  },
  {
   "cell_type": "markdown",
   "metadata": {},
   "source": [
    "Данные собираются с интервалом в 5 минут. Необходимо найти timestamps в которые отсутствуют данные"
   ]
  },
  {
   "cell_type": "markdown",
   "metadata": {},
   "source": [
    "Проверка индекса на дубликаты"
   ]
  },
  {
   "cell_type": "code",
   "execution_count": 64,
   "metadata": {},
   "outputs": [
    {
     "data": {
      "text/plain": [
       "7938"
      ]
     },
     "execution_count": 64,
     "metadata": {},
     "output_type": "execute_result"
    }
   ],
   "source": [
    "puid_source_0.index.duplicated().sum()"
   ]
  },
  {
   "cell_type": "markdown",
   "metadata": {},
   "source": [
    "При наличии продублированных записей нужно определить какие данные оставлять "
   ]
  },
  {
   "cell_type": "code",
   "execution_count": 80,
   "metadata": {},
   "outputs": [
    {
     "data": {
      "text/html": [
       "<div>\n",
       "<style scoped>\n",
       "    .dataframe tbody tr th:only-of-type {\n",
       "        vertical-align: middle;\n",
       "    }\n",
       "\n",
       "    .dataframe tbody tr th {\n",
       "        vertical-align: top;\n",
       "    }\n",
       "\n",
       "    .dataframe thead th {\n",
       "        text-align: right;\n",
       "    }\n",
       "</style>\n",
       "<table border=\"1\" class=\"dataframe\">\n",
       "  <thead>\n",
       "    <tr style=\"text-align: right;\">\n",
       "      <th></th>\n",
       "      <th>volume</th>\n",
       "      <th>speed</th>\n",
       "      <th>occupancy</th>\n",
       "    </tr>\n",
       "    <tr>\n",
       "      <th>ts</th>\n",
       "      <th></th>\n",
       "      <th></th>\n",
       "      <th></th>\n",
       "    </tr>\n",
       "  </thead>\n",
       "  <tbody>\n",
       "    <tr>\n",
       "      <th>2024-05-21 06:55:00</th>\n",
       "      <td>31.0</td>\n",
       "      <td>75.984375</td>\n",
       "      <td>3.332031</td>\n",
       "    </tr>\n",
       "    <tr>\n",
       "      <th>2024-05-21 06:55:00</th>\n",
       "      <td>31.0</td>\n",
       "      <td>75.984375</td>\n",
       "      <td>3.332031</td>\n",
       "    </tr>\n",
       "    <tr>\n",
       "      <th>2024-05-21 07:00:00</th>\n",
       "      <td>33.0</td>\n",
       "      <td>81.144530</td>\n",
       "      <td>3.371094</td>\n",
       "    </tr>\n",
       "    <tr>\n",
       "      <th>2024-05-21 07:00:00</th>\n",
       "      <td>33.0</td>\n",
       "      <td>81.144530</td>\n",
       "      <td>3.371094</td>\n",
       "    </tr>\n",
       "    <tr>\n",
       "      <th>2024-05-21 07:05:00</th>\n",
       "      <td>30.0</td>\n",
       "      <td>76.023440</td>\n",
       "      <td>4.339844</td>\n",
       "    </tr>\n",
       "    <tr>\n",
       "      <th>...</th>\n",
       "      <td>...</td>\n",
       "      <td>...</td>\n",
       "      <td>...</td>\n",
       "    </tr>\n",
       "    <tr>\n",
       "      <th>2024-11-14 09:05:00</th>\n",
       "      <td>28.0</td>\n",
       "      <td>75.632810</td>\n",
       "      <td>4.121094</td>\n",
       "    </tr>\n",
       "    <tr>\n",
       "      <th>2024-11-14 09:10:00</th>\n",
       "      <td>37.0</td>\n",
       "      <td>71.847660</td>\n",
       "      <td>5.761719</td>\n",
       "    </tr>\n",
       "    <tr>\n",
       "      <th>2024-11-14 09:10:00</th>\n",
       "      <td>37.0</td>\n",
       "      <td>71.847660</td>\n",
       "      <td>5.761719</td>\n",
       "    </tr>\n",
       "    <tr>\n",
       "      <th>2024-11-14 09:15:00</th>\n",
       "      <td>43.0</td>\n",
       "      <td>72.519530</td>\n",
       "      <td>7.062500</td>\n",
       "    </tr>\n",
       "    <tr>\n",
       "      <th>2024-11-14 09:15:00</th>\n",
       "      <td>43.0</td>\n",
       "      <td>72.519530</td>\n",
       "      <td>7.062500</td>\n",
       "    </tr>\n",
       "  </tbody>\n",
       "</table>\n",
       "<p>15349 rows × 3 columns</p>\n",
       "</div>"
      ],
      "text/plain": [
       "                     volume      speed  occupancy\n",
       "ts                                               \n",
       "2024-05-21 06:55:00    31.0  75.984375   3.332031\n",
       "2024-05-21 06:55:00    31.0  75.984375   3.332031\n",
       "2024-05-21 07:00:00    33.0  81.144530   3.371094\n",
       "2024-05-21 07:00:00    33.0  81.144530   3.371094\n",
       "2024-05-21 07:05:00    30.0  76.023440   4.339844\n",
       "...                     ...        ...        ...\n",
       "2024-11-14 09:05:00    28.0  75.632810   4.121094\n",
       "2024-11-14 09:10:00    37.0  71.847660   5.761719\n",
       "2024-11-14 09:10:00    37.0  71.847660   5.761719\n",
       "2024-11-14 09:15:00    43.0  72.519530   7.062500\n",
       "2024-11-14 09:15:00    43.0  72.519530   7.062500\n",
       "\n",
       "[15349 rows x 3 columns]"
      ]
     },
     "execution_count": 80,
     "metadata": {},
     "output_type": "execute_result"
    }
   ],
   "source": [
    "puid_source_0[puid_source_0.index.duplicated(keep=False)]"
   ]
  },
  {
   "cell_type": "markdown",
   "metadata": {},
   "source": [
    "Проверка на различные дубликаты"
   ]
  },
  {
   "cell_type": "code",
   "execution_count": 87,
   "metadata": {},
   "outputs": [
    {
     "data": {
      "text/html": [
       "<div>\n",
       "<style scoped>\n",
       "    .dataframe tbody tr th:only-of-type {\n",
       "        vertical-align: middle;\n",
       "    }\n",
       "\n",
       "    .dataframe tbody tr th {\n",
       "        vertical-align: top;\n",
       "    }\n",
       "\n",
       "    .dataframe thead th {\n",
       "        text-align: right;\n",
       "    }\n",
       "</style>\n",
       "<table border=\"1\" class=\"dataframe\">\n",
       "  <thead>\n",
       "    <tr style=\"text-align: right;\">\n",
       "      <th></th>\n",
       "      <th>volume</th>\n",
       "      <th>speed</th>\n",
       "      <th>occupancy</th>\n",
       "    </tr>\n",
       "    <tr>\n",
       "      <th>ts</th>\n",
       "      <th></th>\n",
       "      <th></th>\n",
       "      <th></th>\n",
       "    </tr>\n",
       "  </thead>\n",
       "  <tbody>\n",
       "  </tbody>\n",
       "</table>\n",
       "</div>"
      ],
      "text/plain": [
       "Empty DataFrame\n",
       "Columns: [volume, speed, occupancy]\n",
       "Index: []"
      ]
     },
     "execution_count": 87,
     "metadata": {},
     "output_type": "execute_result"
    }
   ],
   "source": [
    "duplicates = puid_source_0.groupby(puid_source_0.index).nunique()\n",
    "duplicates[duplicates.gt(1).any(axis=1)]"
   ]
  },
  {
   "cell_type": "markdown",
   "metadata": {},
   "source": [
    "Так как дубликаты повторяются можно удалить их. Иначе можно усреднить или оставить только первое/последнее значение"
   ]
  },
  {
   "cell_type": "code",
   "execution_count": 88,
   "metadata": {},
   "outputs": [],
   "source": [
    "puid_source_0 = puid_source_0[~puid_source_0.index.duplicated(keep='first')]"
   ]
  },
  {
   "cell_type": "code",
   "execution_count": 100,
   "metadata": {},
   "outputs": [
    {
     "data": {
      "text/html": [
       "<div>\n",
       "<style scoped>\n",
       "    .dataframe tbody tr th:only-of-type {\n",
       "        vertical-align: middle;\n",
       "    }\n",
       "\n",
       "    .dataframe tbody tr th {\n",
       "        vertical-align: top;\n",
       "    }\n",
       "\n",
       "    .dataframe thead th {\n",
       "        text-align: right;\n",
       "    }\n",
       "</style>\n",
       "<table border=\"1\" class=\"dataframe\">\n",
       "  <thead>\n",
       "    <tr style=\"text-align: right;\">\n",
       "      <th></th>\n",
       "      <th>volume</th>\n",
       "      <th>speed</th>\n",
       "      <th>occupancy</th>\n",
       "    </tr>\n",
       "  </thead>\n",
       "  <tbody>\n",
       "    <tr>\n",
       "      <th>count</th>\n",
       "      <td>54811.000000</td>\n",
       "      <td>54811.000000</td>\n",
       "      <td>54811.000000</td>\n",
       "    </tr>\n",
       "    <tr>\n",
       "      <th>mean</th>\n",
       "      <td>55.139187</td>\n",
       "      <td>71.447210</td>\n",
       "      <td>8.477453</td>\n",
       "    </tr>\n",
       "    <tr>\n",
       "      <th>std</th>\n",
       "      <td>32.201708</td>\n",
       "      <td>12.253072</td>\n",
       "      <td>8.530749</td>\n",
       "    </tr>\n",
       "    <tr>\n",
       "      <th>min</th>\n",
       "      <td>0.000000</td>\n",
       "      <td>0.484375</td>\n",
       "      <td>0.000000</td>\n",
       "    </tr>\n",
       "    <tr>\n",
       "      <th>25%</th>\n",
       "      <td>28.000000</td>\n",
       "      <td>69.089840</td>\n",
       "      <td>3.492188</td>\n",
       "    </tr>\n",
       "    <tr>\n",
       "      <th>50%</th>\n",
       "      <td>51.000000</td>\n",
       "      <td>73.632810</td>\n",
       "      <td>6.433594</td>\n",
       "    </tr>\n",
       "    <tr>\n",
       "      <th>75%</th>\n",
       "      <td>81.000000</td>\n",
       "      <td>77.832030</td>\n",
       "      <td>10.289062</td>\n",
       "    </tr>\n",
       "    <tr>\n",
       "      <th>max</th>\n",
       "      <td>143.000000</td>\n",
       "      <td>120.000000</td>\n",
       "      <td>100.000000</td>\n",
       "    </tr>\n",
       "  </tbody>\n",
       "</table>\n",
       "</div>"
      ],
      "text/plain": [
       "             volume         speed     occupancy\n",
       "count  54811.000000  54811.000000  54811.000000\n",
       "mean      55.139187     71.447210      8.477453\n",
       "std       32.201708     12.253072      8.530749\n",
       "min        0.000000      0.484375      0.000000\n",
       "25%       28.000000     69.089840      3.492188\n",
       "50%       51.000000     73.632810      6.433594\n",
       "75%       81.000000     77.832030     10.289062\n",
       "max      143.000000    120.000000    100.000000"
      ]
     },
     "execution_count": 100,
     "metadata": {},
     "output_type": "execute_result"
    }
   ],
   "source": [
    "range2024 = pd.date_range('2024-01-01 00:00', '2024-12-31 23:55', freq='5Min')\n",
    "puid_source_0_na = puid_source_0.reindex(range2024)\n",
    "puid_source_0_na.describe()"
   ]
  },
  {
   "cell_type": "code",
   "execution_count": 101,
   "metadata": {},
   "outputs": [
    {
     "data": {
      "text/plain": [
       "<Axes: >"
      ]
     },
     "execution_count": 101,
     "metadata": {},
     "output_type": "execute_result"
    },
    {
     "data": {
      "image/png": "[encoded data removed]",
      "text/plain": [
       "<Figure size 640x480 with 1 Axes>"
      ]
     },
     "metadata": {},
     "output_type": "display_data"
    }
   ],
   "source": [
    "puid_source_0_na.plot()"
   ]
  },
  {
   "cell_type": "code",
   "execution_count": 102,
   "metadata": {},
   "outputs": [
    {
     "data": {
      "text/plain": [
       "105408.0"
      ]
     },
     "execution_count": 102,
     "metadata": {},
     "output_type": "execute_result"
    }
   ],
   "source": [
    "# количество пятиминутных интервалов в году\n",
    "rows_count = pd.Timestamp(2024, 12, 31).dayofyear * (24 * 60 / 5)\n",
    "rows_count"
   ]
  },
  {
   "cell_type": "code",
   "execution_count": 111,
   "metadata": {},
   "outputs": [],
   "source": [
    "assert len(puid_source_0_na.index) == rows_count"
   ]
  },
  {
   "cell_type": "markdown",
   "metadata": {},
   "source": [
    "Данные нормализованы по времени. Теперь необходимо корректно заполнить каждый тип пропущенных значений"
   ]
  },
  {
   "cell_type": "markdown",
   "metadata": {},
   "source": [
    "## Заполнение пропусков"
   ]
  },
  {
   "cell_type": "markdown",
   "metadata": {},
   "source": [
    "Заполнять пропуски можно \n",
    "- линейно\n",
    "- скользящим окном \n",
    "- средними за период (день, неделя)\n",
    "- средним за все ts в году (к примеру усредняем все значения каждого дня в 05:55:00)\n",
    "\n",
    "Виды пропусков\n",
    "- в определенное время дня\n",
    "- целыми интервалами\n",
    "\n",
    "Имеет смысл заполнять пропуски если их не большинство и они не регулярны весь период"
   ]
  },
  {
   "cell_type": "markdown",
   "metadata": {},
   "source": [
    "### Определение характера пропущенных данных"
   ]
  },
  {
   "cell_type": "code",
   "execution_count": 129,
   "metadata": {},
   "outputs": [],
   "source": [
    "puid_source_0_na = puid_source_0_na.reset_index()\n",
    "puid_source_0_na['is_nan'] = puid_source_0_na['volume'].isna().astype(int)  \n",
    "puid_source_0_na['group'] = (puid_source_0_na['is_nan'].diff() == 1).cumsum()  \n",
    "nan_intervals = puid_source_0_na[puid_source_0_na['is_nan'] == 1].groupby('group').agg(start=('index', 'first'), end=('index', 'last'))"
   ]
  },
  {
   "cell_type": "code",
   "execution_count": 131,
   "metadata": {},
   "outputs": [
    {
     "data": {
      "text/html": [
       "<div>\n",
       "<style scoped>\n",
       "    .dataframe tbody tr th:only-of-type {\n",
       "        vertical-align: middle;\n",
       "    }\n",
       "\n",
       "    .dataframe tbody tr th {\n",
       "        vertical-align: top;\n",
       "    }\n",
       "\n",
       "    .dataframe thead th {\n",
       "        text-align: right;\n",
       "    }\n",
       "</style>\n",
       "<table border=\"1\" class=\"dataframe\">\n",
       "  <thead>\n",
       "    <tr style=\"text-align: right;\">\n",
       "      <th></th>\n",
       "      <th>start</th>\n",
       "      <th>end</th>\n",
       "    </tr>\n",
       "    <tr>\n",
       "      <th>group</th>\n",
       "      <th></th>\n",
       "      <th></th>\n",
       "    </tr>\n",
       "  </thead>\n",
       "  <tbody>\n",
       "    <tr>\n",
       "      <th>0</th>\n",
       "      <td>2024-01-01 00:00:00</td>\n",
       "      <td>2024-05-10 05:15:00</td>\n",
       "    </tr>\n",
       "    <tr>\n",
       "      <th>1</th>\n",
       "      <td>2024-05-16 19:15:00</td>\n",
       "      <td>2024-05-17 11:35:00</td>\n",
       "    </tr>\n",
       "    <tr>\n",
       "      <th>2</th>\n",
       "      <td>2024-05-18 23:20:00</td>\n",
       "      <td>2024-05-18 23:20:00</td>\n",
       "    </tr>\n",
       "    <tr>\n",
       "      <th>3</th>\n",
       "      <td>2024-05-30 14:05:00</td>\n",
       "      <td>2024-06-01 16:25:00</td>\n",
       "    </tr>\n",
       "    <tr>\n",
       "      <th>4</th>\n",
       "      <td>2024-06-17 23:25:00</td>\n",
       "      <td>2024-06-17 23:25:00</td>\n",
       "    </tr>\n",
       "    <tr>\n",
       "      <th>5</th>\n",
       "      <td>2024-07-04 13:05:00</td>\n",
       "      <td>2024-07-04 13:05:00</td>\n",
       "    </tr>\n",
       "    <tr>\n",
       "      <th>6</th>\n",
       "      <td>2024-07-16 22:05:00</td>\n",
       "      <td>2024-07-16 22:05:00</td>\n",
       "    </tr>\n",
       "    <tr>\n",
       "      <th>7</th>\n",
       "      <td>2024-07-17 22:05:00</td>\n",
       "      <td>2024-07-17 22:05:00</td>\n",
       "    </tr>\n",
       "    <tr>\n",
       "      <th>8</th>\n",
       "      <td>2024-07-31 22:10:00</td>\n",
       "      <td>2024-07-31 22:10:00</td>\n",
       "    </tr>\n",
       "    <tr>\n",
       "      <th>9</th>\n",
       "      <td>2024-08-30 23:15:00</td>\n",
       "      <td>2024-08-30 23:15:00</td>\n",
       "    </tr>\n",
       "    <tr>\n",
       "      <th>10</th>\n",
       "      <td>2024-09-29 23:40:00</td>\n",
       "      <td>2024-09-29 23:40:00</td>\n",
       "    </tr>\n",
       "    <tr>\n",
       "      <th>11</th>\n",
       "      <td>2024-11-19 08:25:00</td>\n",
       "      <td>2024-12-31 23:55:00</td>\n",
       "    </tr>\n",
       "  </tbody>\n",
       "</table>\n",
       "</div>"
      ],
      "text/plain": [
       "                    start                 end\n",
       "group                                        \n",
       "0     2024-01-01 00:00:00 2024-05-10 05:15:00\n",
       "1     2024-05-16 19:15:00 2024-05-17 11:35:00\n",
       "2     2024-05-18 23:20:00 2024-05-18 23:20:00\n",
       "3     2024-05-30 14:05:00 2024-06-01 16:25:00\n",
       "4     2024-06-17 23:25:00 2024-06-17 23:25:00\n",
       "5     2024-07-04 13:05:00 2024-07-04 13:05:00\n",
       "6     2024-07-16 22:05:00 2024-07-16 22:05:00\n",
       "7     2024-07-17 22:05:00 2024-07-17 22:05:00\n",
       "8     2024-07-31 22:10:00 2024-07-31 22:10:00\n",
       "9     2024-08-30 23:15:00 2024-08-30 23:15:00\n",
       "10    2024-09-29 23:40:00 2024-09-29 23:40:00\n",
       "11    2024-11-19 08:25:00 2024-12-31 23:55:00"
      ]
     },
     "execution_count": 131,
     "metadata": {},
     "output_type": "execute_result"
    }
   ],
   "source": [
    "nan_intervals"
   ]
  },
  {
   "cell_type": "code",
   "execution_count": 138,
   "metadata": {},
   "outputs": [],
   "source": [
    "puid_source_0_na.drop(['is_nan', 'level_0', 'group'], axis=1, inplace=True)"
   ]
  },
  {
   "cell_type": "code",
   "execution_count": 145,
   "metadata": {},
   "outputs": [],
   "source": [
    "s1, e1 = nan_intervals.loc[1].start, nan_intervals.loc[1].end"
   ]
  },
  {
   "cell_type": "code",
   "execution_count": 149,
   "metadata": {},
   "outputs": [
    {
     "data": {
      "text/html": [
       "<div>\n",
       "<style scoped>\n",
       "    .dataframe tbody tr th:only-of-type {\n",
       "        vertical-align: middle;\n",
       "    }\n",
       "\n",
       "    .dataframe tbody tr th {\n",
       "        vertical-align: top;\n",
       "    }\n",
       "\n",
       "    .dataframe thead th {\n",
       "        text-align: right;\n",
       "    }\n",
       "</style>\n",
       "<table border=\"1\" class=\"dataframe\">\n",
       "  <thead>\n",
       "    <tr style=\"text-align: right;\">\n",
       "      <th></th>\n",
       "      <th>volume</th>\n",
       "      <th>speed</th>\n",
       "      <th>occupancy</th>\n",
       "    </tr>\n",
       "    <tr>\n",
       "      <th>index</th>\n",
       "      <th></th>\n",
       "      <th></th>\n",
       "      <th></th>\n",
       "    </tr>\n",
       "  </thead>\n",
       "  <tbody>\n",
       "    <tr>\n",
       "      <th>2024-05-16 19:15:00</th>\n",
       "      <td>NaN</td>\n",
       "      <td>NaN</td>\n",
       "      <td>NaN</td>\n",
       "    </tr>\n",
       "    <tr>\n",
       "      <th>2024-05-16 19:20:00</th>\n",
       "      <td>NaN</td>\n",
       "      <td>NaN</td>\n",
       "      <td>NaN</td>\n",
       "    </tr>\n",
       "    <tr>\n",
       "      <th>2024-05-16 19:25:00</th>\n",
       "      <td>NaN</td>\n",
       "      <td>NaN</td>\n",
       "      <td>NaN</td>\n",
       "    </tr>\n",
       "    <tr>\n",
       "      <th>2024-05-16 19:30:00</th>\n",
       "      <td>NaN</td>\n",
       "      <td>NaN</td>\n",
       "      <td>NaN</td>\n",
       "    </tr>\n",
       "    <tr>\n",
       "      <th>2024-05-16 19:35:00</th>\n",
       "      <td>NaN</td>\n",
       "      <td>NaN</td>\n",
       "      <td>NaN</td>\n",
       "    </tr>\n",
       "    <tr>\n",
       "      <th>...</th>\n",
       "      <td>...</td>\n",
       "      <td>...</td>\n",
       "      <td>...</td>\n",
       "    </tr>\n",
       "    <tr>\n",
       "      <th>2024-05-17 11:15:00</th>\n",
       "      <td>NaN</td>\n",
       "      <td>NaN</td>\n",
       "      <td>NaN</td>\n",
       "    </tr>\n",
       "    <tr>\n",
       "      <th>2024-05-17 11:20:00</th>\n",
       "      <td>NaN</td>\n",
       "      <td>NaN</td>\n",
       "      <td>NaN</td>\n",
       "    </tr>\n",
       "    <tr>\n",
       "      <th>2024-05-17 11:25:00</th>\n",
       "      <td>NaN</td>\n",
       "      <td>NaN</td>\n",
       "      <td>NaN</td>\n",
       "    </tr>\n",
       "    <tr>\n",
       "      <th>2024-05-17 11:30:00</th>\n",
       "      <td>NaN</td>\n",
       "      <td>NaN</td>\n",
       "      <td>NaN</td>\n",
       "    </tr>\n",
       "    <tr>\n",
       "      <th>2024-05-17 11:35:00</th>\n",
       "      <td>NaN</td>\n",
       "      <td>NaN</td>\n",
       "      <td>NaN</td>\n",
       "    </tr>\n",
       "  </tbody>\n",
       "</table>\n",
       "<p>197 rows × 3 columns</p>\n",
       "</div>"
      ],
      "text/plain": [
       "                     volume  speed  occupancy\n",
       "index                                        \n",
       "2024-05-16 19:15:00     NaN    NaN        NaN\n",
       "2024-05-16 19:20:00     NaN    NaN        NaN\n",
       "2024-05-16 19:25:00     NaN    NaN        NaN\n",
       "2024-05-16 19:30:00     NaN    NaN        NaN\n",
       "2024-05-16 19:35:00     NaN    NaN        NaN\n",
       "...                     ...    ...        ...\n",
       "2024-05-17 11:15:00     NaN    NaN        NaN\n",
       "2024-05-17 11:20:00     NaN    NaN        NaN\n",
       "2024-05-17 11:25:00     NaN    NaN        NaN\n",
       "2024-05-17 11:30:00     NaN    NaN        NaN\n",
       "2024-05-17 11:35:00     NaN    NaN        NaN\n",
       "\n",
       "[197 rows x 3 columns]"
      ]
     },
     "execution_count": 149,
     "metadata": {},
     "output_type": "execute_result"
    }
   ],
   "source": [
    "puid_source_0_na.loc[s1:e1]"
   ]
  },
  {
   "cell_type": "markdown",
   "metadata": {},
   "source": [
    "## Поиск аномалий"
   ]
  },
  {
   "cell_type": "markdown",
   "metadata": {},
   "source": [
    "Можно осуществлять несколькими методами. Удаление аномалий и повышение чистоты данных будет напрямую влиять на качество обучения\n",
    "\n",
    "1. Экспертная оценка\n",
    "\n",
    "- обратное и прямое направление отличаются в несколько раз (сюда же относится отсутствие трафика по одному направлению когда другое направление представлено)\n",
    "- резко возрастает показатель интенсивности\n",
    "- интенсивность изменяется несколько раз в сутки\n",
    "\n",
    "2. Микросервис "
   ]
  }
 ],
 "metadata": {
  "kernelspec": {
   "display_name": "base",
   "language": "python",
   "name": "python3"
  },
  "language_info": {
   "codemirror_mode": {
    "name": "ipython",
    "version": 3
   },
   "file_extension": ".py",
   "mimetype": "text/x-python",
   "name": "python",
   "nbconvert_exporter": "python",
   "pygments_lexer": "ipython3",
   "version": "3.9.13"
  }
 },
 "nbformat": 4,
 "nbformat_minor": 2
}
