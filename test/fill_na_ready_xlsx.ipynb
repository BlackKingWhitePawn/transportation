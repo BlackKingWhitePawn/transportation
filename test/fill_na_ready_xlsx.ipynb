{
 "cells": [
  {
   "cell_type": "code",
   "execution_count": 1,
   "metadata": {},
   "outputs": [],
   "source": [
    "import pandas as pd\n",
    "import numpy as np\n",
    "from functools import reduce\n",
    "from statsmodels.tsa.holtwinters import ExponentialSmoothing\n",
    "from matplotlib import pyplot as plt\n",
    "from tqdm import tqdm\n",
    "import pathlib\n",
    "import datetime\n",
    "import dateutil"
   ]
  },
  {
   "cell_type": "code",
   "execution_count": 42,
   "metadata": {},
   "outputs": [
    {
     "name": "stderr",
     "output_type": "stream",
     "text": [
      "C:\\Users\\riabt\\AppData\\Local\\Temp\\ipykernel_25736\\2917184617.py:1: UserWarning: Could not infer format, so each element will be parsed individually, falling back to `dateutil`. To ensure parsing is consistent and as-expected, please specify a format.\n",
      "  first_value_index = pd.to_datetime(initial_df.iloc[:, 0], 'coerce').first_valid_index()\n"
     ]
    },
    {
     "data": {
      "text/html": [
       "<div>\n",
       "<style scoped>\n",
       "    .dataframe tbody tr th:only-of-type {\n",
       "        vertical-align: middle;\n",
       "    }\n",
       "\n",
       "    .dataframe tbody tr th {\n",
       "        vertical-align: top;\n",
       "    }\n",
       "\n",
       "    .dataframe thead th {\n",
       "        text-align: right;\n",
       "    }\n",
       "</style>\n",
       "<table border=\"1\" class=\"dataframe\">\n",
       "  <thead>\n",
       "    <tr style=\"text-align: right;\">\n",
       "      <th></th>\n",
       "      <th>Unnamed: 0</th>\n",
       "      <th>Unnamed: 1</th>\n",
       "      <th>Unnamed: 2</th>\n",
       "      <th>Unnamed: 3</th>\n",
       "      <th>Unnamed: 4</th>\n",
       "      <th>Unnamed: 5</th>\n",
       "      <th>Unnamed: 6</th>\n",
       "      <th>Unnamed: 7</th>\n",
       "      <th>Unnamed: 8</th>\n",
       "      <th>Unnamed: 9</th>\n",
       "      <th>...</th>\n",
       "      <th>Unnamed: 19</th>\n",
       "      <th>Unnamed: 20</th>\n",
       "      <th>Unnamed: 21</th>\n",
       "      <th>Unnamed: 22</th>\n",
       "      <th>Unnamed: 23</th>\n",
       "      <th>Unnamed: 24</th>\n",
       "      <th>Unnamed: 25</th>\n",
       "      <th>Unnamed: 26</th>\n",
       "      <th>Unnamed: 27</th>\n",
       "      <th>Unnamed: 28</th>\n",
       "    </tr>\n",
       "  </thead>\n",
       "  <tbody>\n",
       "    <tr>\n",
       "      <th>2</th>\n",
       "      <td>01.12.2023 00:59:59</td>\n",
       "      <td>367</td>\n",
       "      <td>178</td>\n",
       "      <td>189</td>\n",
       "      <td>232</td>\n",
       "      <td>119</td>\n",
       "      <td>113</td>\n",
       "      <td>42</td>\n",
       "      <td>12</td>\n",
       "      <td>30</td>\n",
       "      <td>...</td>\n",
       "      <td>0</td>\n",
       "      <td>0</td>\n",
       "      <td>0</td>\n",
       "      <td>0</td>\n",
       "      <td>0</td>\n",
       "      <td>0</td>\n",
       "      <td>62</td>\n",
       "      <td>63</td>\n",
       "      <td>3</td>\n",
       "      <td>2</td>\n",
       "    </tr>\n",
       "    <tr>\n",
       "      <th>3</th>\n",
       "      <td>01.12.2023 01:59:59</td>\n",
       "      <td>273</td>\n",
       "      <td>125</td>\n",
       "      <td>148</td>\n",
       "      <td>154</td>\n",
       "      <td>71</td>\n",
       "      <td>83</td>\n",
       "      <td>42</td>\n",
       "      <td>12</td>\n",
       "      <td>30</td>\n",
       "      <td>...</td>\n",
       "      <td>0</td>\n",
       "      <td>0</td>\n",
       "      <td>0</td>\n",
       "      <td>0</td>\n",
       "      <td>0</td>\n",
       "      <td>0</td>\n",
       "      <td>55</td>\n",
       "      <td>61</td>\n",
       "      <td>3</td>\n",
       "      <td>2</td>\n",
       "    </tr>\n",
       "    <tr>\n",
       "      <th>4</th>\n",
       "      <td>01.12.2023 02:59:59</td>\n",
       "      <td>217</td>\n",
       "      <td>106</td>\n",
       "      <td>111</td>\n",
       "      <td>125</td>\n",
       "      <td>56</td>\n",
       "      <td>69</td>\n",
       "      <td>27</td>\n",
       "      <td>10</td>\n",
       "      <td>17</td>\n",
       "      <td>...</td>\n",
       "      <td>0</td>\n",
       "      <td>0</td>\n",
       "      <td>0</td>\n",
       "      <td>0</td>\n",
       "      <td>0</td>\n",
       "      <td>0</td>\n",
       "      <td>62</td>\n",
       "      <td>57</td>\n",
       "      <td>3</td>\n",
       "      <td>1</td>\n",
       "    </tr>\n",
       "    <tr>\n",
       "      <th>5</th>\n",
       "      <td>01.12.2023 03:59:59</td>\n",
       "      <td>190</td>\n",
       "      <td>86</td>\n",
       "      <td>104</td>\n",
       "      <td>130</td>\n",
       "      <td>59</td>\n",
       "      <td>71</td>\n",
       "      <td>21</td>\n",
       "      <td>11</td>\n",
       "      <td>10</td>\n",
       "      <td>...</td>\n",
       "      <td>0</td>\n",
       "      <td>0</td>\n",
       "      <td>0</td>\n",
       "      <td>0</td>\n",
       "      <td>0</td>\n",
       "      <td>0</td>\n",
       "      <td>57</td>\n",
       "      <td>43</td>\n",
       "      <td>1</td>\n",
       "      <td>1</td>\n",
       "    </tr>\n",
       "    <tr>\n",
       "      <th>6</th>\n",
       "      <td>01.12.2023 04:59:59</td>\n",
       "      <td>242</td>\n",
       "      <td>118</td>\n",
       "      <td>124</td>\n",
       "      <td>169</td>\n",
       "      <td>79</td>\n",
       "      <td>90</td>\n",
       "      <td>36</td>\n",
       "      <td>21</td>\n",
       "      <td>15</td>\n",
       "      <td>...</td>\n",
       "      <td>0</td>\n",
       "      <td>0</td>\n",
       "      <td>0</td>\n",
       "      <td>0</td>\n",
       "      <td>0</td>\n",
       "      <td>0</td>\n",
       "      <td>56</td>\n",
       "      <td>57</td>\n",
       "      <td>2</td>\n",
       "      <td>1</td>\n",
       "    </tr>\n",
       "    <tr>\n",
       "      <th>...</th>\n",
       "      <td>...</td>\n",
       "      <td>...</td>\n",
       "      <td>...</td>\n",
       "      <td>...</td>\n",
       "      <td>...</td>\n",
       "      <td>...</td>\n",
       "      <td>...</td>\n",
       "      <td>...</td>\n",
       "      <td>...</td>\n",
       "      <td>...</td>\n",
       "      <td>...</td>\n",
       "      <td>...</td>\n",
       "      <td>...</td>\n",
       "      <td>...</td>\n",
       "      <td>...</td>\n",
       "      <td>...</td>\n",
       "      <td>...</td>\n",
       "      <td>...</td>\n",
       "      <td>...</td>\n",
       "      <td>...</td>\n",
       "      <td>...</td>\n",
       "    </tr>\n",
       "    <tr>\n",
       "      <th>10256</th>\n",
       "      <td>31.01.2025 22:59:59</td>\n",
       "      <td>678</td>\n",
       "      <td>362</td>\n",
       "      <td>316</td>\n",
       "      <td>433</td>\n",
       "      <td>243</td>\n",
       "      <td>190</td>\n",
       "      <td>59</td>\n",
       "      <td>19</td>\n",
       "      <td>40</td>\n",
       "      <td>...</td>\n",
       "      <td>15</td>\n",
       "      <td>6</td>\n",
       "      <td>9</td>\n",
       "      <td>0</td>\n",
       "      <td>0</td>\n",
       "      <td>0</td>\n",
       "      <td>57</td>\n",
       "      <td>52</td>\n",
       "      <td>7</td>\n",
       "      <td>3</td>\n",
       "    </tr>\n",
       "    <tr>\n",
       "      <th>10257</th>\n",
       "      <td>31.01.2025 23:59:59</td>\n",
       "      <td>478</td>\n",
       "      <td>246</td>\n",
       "      <td>232</td>\n",
       "      <td>273</td>\n",
       "      <td>156</td>\n",
       "      <td>117</td>\n",
       "      <td>52</td>\n",
       "      <td>11</td>\n",
       "      <td>41</td>\n",
       "      <td>...</td>\n",
       "      <td>2</td>\n",
       "      <td>1</td>\n",
       "      <td>1</td>\n",
       "      <td>0</td>\n",
       "      <td>0</td>\n",
       "      <td>0</td>\n",
       "      <td>60</td>\n",
       "      <td>68</td>\n",
       "      <td>5</td>\n",
       "      <td>3</td>\n",
       "    </tr>\n",
       "    <tr>\n",
       "      <th>10258</th>\n",
       "      <td>Итого</td>\n",
       "      <td>12110842</td>\n",
       "      <td>NaN</td>\n",
       "      <td>NaN</td>\n",
       "      <td>8965584</td>\n",
       "      <td>NaN</td>\n",
       "      <td>NaN</td>\n",
       "      <td>1202541</td>\n",
       "      <td>NaN</td>\n",
       "      <td>NaN</td>\n",
       "      <td>...</td>\n",
       "      <td>100293</td>\n",
       "      <td>NaN</td>\n",
       "      <td>NaN</td>\n",
       "      <td>0</td>\n",
       "      <td>NaN</td>\n",
       "      <td>NaN</td>\n",
       "      <td>NaN</td>\n",
       "      <td>NaN</td>\n",
       "      <td>NaN</td>\n",
       "      <td>NaN</td>\n",
       "    </tr>\n",
       "    <tr>\n",
       "      <th>10259</th>\n",
       "      <td>Среднее</td>\n",
       "      <td>1183</td>\n",
       "      <td>NaN</td>\n",
       "      <td>NaN</td>\n",
       "      <td>876</td>\n",
       "      <td>NaN</td>\n",
       "      <td>NaN</td>\n",
       "      <td>118</td>\n",
       "      <td>NaN</td>\n",
       "      <td>NaN</td>\n",
       "      <td>...</td>\n",
       "      <td>10</td>\n",
       "      <td>NaN</td>\n",
       "      <td>NaN</td>\n",
       "      <td>0</td>\n",
       "      <td>NaN</td>\n",
       "      <td>NaN</td>\n",
       "      <td>NaN</td>\n",
       "      <td>NaN</td>\n",
       "      <td>NaN</td>\n",
       "      <td>NaN</td>\n",
       "    </tr>\n",
       "    <tr>\n",
       "      <th>10260</th>\n",
       "      <td>%</td>\n",
       "      <td>NaN</td>\n",
       "      <td>NaN</td>\n",
       "      <td>NaN</td>\n",
       "      <td>74.029</td>\n",
       "      <td>NaN</td>\n",
       "      <td>NaN</td>\n",
       "      <td>9.929</td>\n",
       "      <td>NaN</td>\n",
       "      <td>NaN</td>\n",
       "      <td>...</td>\n",
       "      <td>0.828</td>\n",
       "      <td>NaN</td>\n",
       "      <td>NaN</td>\n",
       "      <td>0</td>\n",
       "      <td>NaN</td>\n",
       "      <td>NaN</td>\n",
       "      <td>NaN</td>\n",
       "      <td>NaN</td>\n",
       "      <td>NaN</td>\n",
       "      <td>NaN</td>\n",
       "    </tr>\n",
       "  </tbody>\n",
       "</table>\n",
       "<p>10259 rows × 29 columns</p>\n",
       "</div>"
      ],
      "text/plain": [
       "                Unnamed: 0 Unnamed: 1 Unnamed: 2 Unnamed: 3 Unnamed: 4  \\\n",
       "2      01.12.2023 00:59:59        367        178        189        232   \n",
       "3      01.12.2023 01:59:59        273        125        148        154   \n",
       "4      01.12.2023 02:59:59        217        106        111        125   \n",
       "5      01.12.2023 03:59:59        190         86        104        130   \n",
       "6      01.12.2023 04:59:59        242        118        124        169   \n",
       "...                    ...        ...        ...        ...        ...   \n",
       "10256  31.01.2025 22:59:59        678        362        316        433   \n",
       "10257  31.01.2025 23:59:59        478        246        232        273   \n",
       "10258                Итого   12110842        NaN        NaN    8965584   \n",
       "10259              Среднее       1183        NaN        NaN        876   \n",
       "10260                    %        NaN        NaN        NaN     74.029   \n",
       "\n",
       "      Unnamed: 5 Unnamed: 6 Unnamed: 7 Unnamed: 8 Unnamed: 9  ... Unnamed: 19  \\\n",
       "2            119        113         42         12         30  ...           0   \n",
       "3             71         83         42         12         30  ...           0   \n",
       "4             56         69         27         10         17  ...           0   \n",
       "5             59         71         21         11         10  ...           0   \n",
       "6             79         90         36         21         15  ...           0   \n",
       "...          ...        ...        ...        ...        ...  ...         ...   \n",
       "10256        243        190         59         19         40  ...          15   \n",
       "10257        156        117         52         11         41  ...           2   \n",
       "10258        NaN        NaN    1202541        NaN        NaN  ...      100293   \n",
       "10259        NaN        NaN        118        NaN        NaN  ...          10   \n",
       "10260        NaN        NaN      9.929        NaN        NaN  ...       0.828   \n",
       "\n",
       "      Unnamed: 20 Unnamed: 21 Unnamed: 22 Unnamed: 23 Unnamed: 24 Unnamed: 25  \\\n",
       "2               0           0           0           0           0          62   \n",
       "3               0           0           0           0           0          55   \n",
       "4               0           0           0           0           0          62   \n",
       "5               0           0           0           0           0          57   \n",
       "6               0           0           0           0           0          56   \n",
       "...           ...         ...         ...         ...         ...         ...   \n",
       "10256           6           9           0           0           0          57   \n",
       "10257           1           1           0           0           0          60   \n",
       "10258         NaN         NaN           0         NaN         NaN         NaN   \n",
       "10259         NaN         NaN           0         NaN         NaN         NaN   \n",
       "10260         NaN         NaN           0         NaN         NaN         NaN   \n",
       "\n",
       "      Unnamed: 26 Unnamed: 27 Unnamed: 28  \n",
       "2              63           3           2  \n",
       "3              61           3           2  \n",
       "4              57           3           1  \n",
       "5              43           1           1  \n",
       "6              57           2           1  \n",
       "...           ...         ...         ...  \n",
       "10256          52           7           3  \n",
       "10257          68           5           3  \n",
       "10258         NaN         NaN         NaN  \n",
       "10259         NaN         NaN         NaN  \n",
       "10260         NaN         NaN         NaN  \n",
       "\n",
       "[10259 rows x 29 columns]"
      ]
     },
     "execution_count": 42,
     "metadata": {},
     "output_type": "execute_result"
    }
   ],
   "source": [
    "first_value_index = pd.to_datetime(initial_df.iloc[:, 0], 'coerce').first_valid_index()  \n",
    "initial_df[first_value_index:]"
   ]
  },
  {
   "cell_type": "code",
   "execution_count": 205,
   "metadata": {},
   "outputs": [
    {
     "name": "stderr",
     "output_type": "stream",
     "text": [
      "C:\\Users\\riabt\\AppData\\Local\\Temp\\ipykernel_25736\\627312693.py:2: UserWarning: Could not infer format, so each element will be parsed individually, falling back to `dateutil`. To ensure parsing is consistent and as-expected, please specify a format.\n",
      "  initial_df = pd.read_excel(path, index_col=0, parse_dates=True)\n"
     ]
    }
   ],
   "source": [
    "path = '../samples/report1.xlsx'\n",
    "initial_df = pd.read_excel(path, index_col=0, parse_dates=True)"
   ]
  },
  {
   "cell_type": "code",
   "execution_count": 275,
   "metadata": {},
   "outputs": [
    {
     "name": "stderr",
     "output_type": "stream",
     "text": [
      "C:\\Users\\riabt\\AppData\\Local\\Temp\\ipykernel_25736\\3224225627.py:2: UserWarning: Could not infer format, so each element will be parsed individually, falling back to `dateutil`. To ensure parsing is consistent and as-expected, please specify a format.\n",
      "  first_value_index = pd.to_datetime(initial_df.iloc[:, 0], 'coerce', dayfirst=True).first_valid_index()\n",
      "0it [00:00, ?it/s]"
     ]
    },
    {
     "name": "stderr",
     "output_type": "stream",
     "text": [
      "10it [00:00, 666.68it/s]"
     ]
    },
    {
     "name": "stdout",
     "output_type": "stream",
     "text": [
      "Unnamed: 1     NaN\n",
      "Unnamed: 2     NaN\n",
      "Unnamed: 3     NaN\n",
      "Unnamed: 4     NaN\n",
      "Unnamed: 5     NaN\n",
      "Unnamed: 6     NaN\n",
      "Unnamed: 7     NaN\n",
      "Unnamed: 8     NaN\n",
      "Unnamed: 9     NaN\n",
      "Unnamed: 10    NaN\n",
      "Unnamed: 11    NaN\n",
      "Unnamed: 12    NaN\n",
      "Unnamed: 13    NaN\n",
      "Unnamed: 14    NaN\n",
      "Unnamed: 15    NaN\n",
      "Unnamed: 16    NaN\n",
      "Unnamed: 17    NaN\n",
      "Unnamed: 18    NaN\n",
      "Unnamed: 19    NaN\n",
      "Unnamed: 20    NaN\n",
      "Unnamed: 21    NaN\n",
      "Unnamed: 22    NaN\n",
      "Unnamed: 23    NaN\n",
      "Unnamed: 24    NaN\n",
      "Unnamed: 25    NaN\n",
      "Unnamed: 26    NaN\n",
      "Unnamed: 27    NaN\n",
      "Unnamed: 28    NaN\n",
      "Name: 2024-05-25 14:00:01, dtype: object\n"
     ]
    },
    {
     "name": "stderr",
     "output_type": "stream",
     "text": [
      "\n"
     ]
    }
   ],
   "source": [
    "def load_data(initial_df):\n",
    "    first_value_index = pd.to_datetime(initial_df.iloc[:, 0], 'coerce', dayfirst=True).first_valid_index() \n",
    "    df = initial_df[first_value_index:]\n",
    "    df.index = pd.to_datetime(df.index, 'coerce', dayfirst=True)\n",
    "    df = df.sort_index()\n",
    "    data_groups = {}\n",
    "    current_group = initial_df.iloc[0].values[0]\n",
    "\n",
    "    for index, value in zip(initial_df.iloc[0].index, initial_df.iloc[0].values):\n",
    "        if (pd.isna(value)):\n",
    "            data_groups[current_group].append(index)\n",
    "        else:\n",
    "            current_group = value\n",
    "            data_groups[current_group] = [index]\n",
    "\n",
    "    data_dfs = []\n",
    "\n",
    "    for group, cols in tqdm(zip(list(data_groups.keys()), list(data_groups.values()))):\n",
    "        data_df = df[cols].copy()\n",
    "        data_df.columns = initial_df[cols].iloc[1].values\n",
    "        data_df.index.names = ['timestamp']\n",
    "        data_dfs.append((group, data_df))\n",
    "\n",
    "    broken = '2024-05-25 11:59:59'\n",
    "    print(df.iloc[df.index.get_loc(broken)  + 2])\n",
    "    \n",
    "    return data_groups, data_dfs\n",
    "\n",
    "data_groups,data_dfs = load_data(initial_df)"
   ]
  },
  {
   "cell_type": "code",
   "execution_count": 260,
   "metadata": {},
   "outputs": [
    {
     "name": "stderr",
     "output_type": "stream",
     "text": [
      "C:\\Users\\riabt\\AppData\\Local\\Temp\\ipykernel_25736\\394474628.py:2: UserWarning: Could not infer format, so each element will be parsed individually, falling back to `dateutil`. To ensure parsing is consistent and as-expected, please specify a format.\n",
      "  df.index = pd.to_datetime(initial_df.index, 'coerce', dayfirst=True)\n"
     ]
    }
   ],
   "source": [
    "df = initial_df\n",
    "df.index = pd.to_datetime(initial_df.index, 'coerce', dayfirst=True)"
   ]
  },
  {
   "cell_type": "code",
   "execution_count": 286,
   "metadata": {},
   "outputs": [],
   "source": [
    "broken = '2024-05-25 11:59:59'"
   ]
  },
  {
   "cell_type": "code",
   "execution_count": 289,
   "metadata": {},
   "outputs": [
    {
     "data": {
      "text/plain": [
       "Итого       1583\n",
       "Прямое       774\n",
       "Обратное     809\n",
       "Name: 2024-05-25 14:59:59, dtype: object"
      ]
     },
     "execution_count": 289,
     "metadata": {},
     "output_type": "execute_result"
    }
   ],
   "source": [
    "df.iloc[df.index.get_loc(broken)  + 3]\n",
    "data_dfs[0][1].iloc[data_dfs[0][1].index.get_loc(broken) + 3]"
   ]
  },
  {
   "cell_type": "code",
   "execution_count": 290,
   "metadata": {},
   "outputs": [
    {
     "data": {
      "text/html": [
       "<div>\n",
       "<style scoped>\n",
       "    .dataframe tbody tr th:only-of-type {\n",
       "        vertical-align: middle;\n",
       "    }\n",
       "\n",
       "    .dataframe tbody tr th {\n",
       "        vertical-align: top;\n",
       "    }\n",
       "\n",
       "    .dataframe thead th {\n",
       "        text-align: right;\n",
       "    }\n",
       "</style>\n",
       "<table border=\"1\" class=\"dataframe\">\n",
       "  <thead>\n",
       "    <tr style=\"text-align: right;\">\n",
       "      <th></th>\n",
       "      <th>Итого</th>\n",
       "      <th>Прямое</th>\n",
       "      <th>Обратное</th>\n",
       "    </tr>\n",
       "    <tr>\n",
       "      <th>timestamp</th>\n",
       "      <th></th>\n",
       "      <th></th>\n",
       "      <th></th>\n",
       "    </tr>\n",
       "  </thead>\n",
       "  <tbody>\n",
       "    <tr>\n",
       "      <th>2023-12-01 00:59:59</th>\n",
       "      <td>367</td>\n",
       "      <td>178</td>\n",
       "      <td>189</td>\n",
       "    </tr>\n",
       "    <tr>\n",
       "      <th>2023-12-01 01:59:59</th>\n",
       "      <td>273</td>\n",
       "      <td>125</td>\n",
       "      <td>148</td>\n",
       "    </tr>\n",
       "    <tr>\n",
       "      <th>2023-12-01 02:59:59</th>\n",
       "      <td>217</td>\n",
       "      <td>106</td>\n",
       "      <td>111</td>\n",
       "    </tr>\n",
       "    <tr>\n",
       "      <th>2023-12-01 03:59:59</th>\n",
       "      <td>190</td>\n",
       "      <td>86</td>\n",
       "      <td>104</td>\n",
       "    </tr>\n",
       "    <tr>\n",
       "      <th>2023-12-01 04:59:59</th>\n",
       "      <td>242</td>\n",
       "      <td>118</td>\n",
       "      <td>124</td>\n",
       "    </tr>\n",
       "    <tr>\n",
       "      <th>...</th>\n",
       "      <td>...</td>\n",
       "      <td>...</td>\n",
       "      <td>...</td>\n",
       "    </tr>\n",
       "    <tr>\n",
       "      <th>2025-01-31 22:59:59</th>\n",
       "      <td>678</td>\n",
       "      <td>362</td>\n",
       "      <td>316</td>\n",
       "    </tr>\n",
       "    <tr>\n",
       "      <th>2025-01-31 23:59:59</th>\n",
       "      <td>478</td>\n",
       "      <td>246</td>\n",
       "      <td>232</td>\n",
       "    </tr>\n",
       "    <tr>\n",
       "      <th>NaT</th>\n",
       "      <td>12110842</td>\n",
       "      <td>NaN</td>\n",
       "      <td>NaN</td>\n",
       "    </tr>\n",
       "    <tr>\n",
       "      <th>NaT</th>\n",
       "      <td>1183</td>\n",
       "      <td>NaN</td>\n",
       "      <td>NaN</td>\n",
       "    </tr>\n",
       "    <tr>\n",
       "      <th>NaT</th>\n",
       "      <td>NaN</td>\n",
       "      <td>NaN</td>\n",
       "      <td>NaN</td>\n",
       "    </tr>\n",
       "  </tbody>\n",
       "</table>\n",
       "<p>10259 rows × 3 columns</p>\n",
       "</div>"
      ],
      "text/plain": [
       "                        Итого Прямое Обратное\n",
       "timestamp                                    \n",
       "2023-12-01 00:59:59       367    178      189\n",
       "2023-12-01 01:59:59       273    125      148\n",
       "2023-12-01 02:59:59       217    106      111\n",
       "2023-12-01 03:59:59       190     86      104\n",
       "2023-12-01 04:59:59       242    118      124\n",
       "...                       ...    ...      ...\n",
       "2025-01-31 22:59:59       678    362      316\n",
       "2025-01-31 23:59:59       478    246      232\n",
       "NaT                  12110842    NaN      NaN\n",
       "NaT                      1183    NaN      NaN\n",
       "NaT                       NaN    NaN      NaN\n",
       "\n",
       "[10259 rows x 3 columns]"
      ]
     },
     "execution_count": 290,
     "metadata": {},
     "output_type": "execute_result"
    }
   ],
   "source": [
    "data_dfs[0][1]"
   ]
  },
  {
   "cell_type": "code",
   "execution_count": 114,
   "metadata": {},
   "outputs": [],
   "source": [
    "# data = data_dfs[0][1]['Итого'].astype(float)\n",
    "\n",
    "# start = pd.Timestamp('2024-06-01 22:00:00')\n",
    "# end = pd.Timestamp('2024-06-01 22:00:00')\n",
    "\n",
    "# i_before = data.index.get_indexer([start]) - 1\n",
    "# i_after = data.index.get_indexer([end]) + 1\n",
    "\n",
    "# data.iloc[i_before] = np.nan\n",
    "# data.iloc[i_after] = np.nan\n",
    "\n",
    "# interpolation = data[start - pd.Timedelta(hours=12):end + pd.Timedelta(hours=12)\n",
    "#      ].interpolate(method='spline', order=2)\n",
    "\n",
    "# prediction_index =  data.index[i_before[0]:i_after[0] + 1]\n",
    "# data_dfs[0][1][prediction_index, 'predict'] = interpolation[prediction_index]"
   ]
  },
  {
   "cell_type": "code",
   "execution_count": 115,
   "metadata": {},
   "outputs": [],
   "source": [
    "# data[start - pd.Timedelta(hours=12):end + pd.Timedelta(hours=12)].plot()"
   ]
  },
  {
   "cell_type": "code",
   "execution_count": 116,
   "metadata": {},
   "outputs": [],
   "source": [
    "# data_dfs[0][1]['Итого'].min()"
   ]
  },
  {
   "cell_type": "code",
   "execution_count": 117,
   "metadata": {},
   "outputs": [
    {
     "name": "stderr",
     "output_type": "stream",
     "text": [
      "WARNING: Skipping python-debugpy as it is not installed.\n"
     ]
    }
   ],
   "source": [
    "!pip uninstall python-debugpy "
   ]
  },
  {
   "cell_type": "code",
   "execution_count": 147,
   "metadata": {},
   "outputs": [
    {
     "name": "stdout",
     "output_type": "stream",
     "text": [
      "                     Итого Общая интенсивность автомобилей\n",
      "timestamp                                                 \n",
      "2024-05-24 08:59:59                             526.000000\n",
      "2024-05-24 09:59:59                             364.000000\n",
      "2024-05-24 10:59:59                             325.000000\n",
      "2024-05-24 11:59:59                             149.000000\n",
      "2024-05-24 12:59:59                             361.000000\n",
      "2024-05-24 13:59:59                             522.000000\n",
      "2024-05-24 14:59:59                            1090.000000\n",
      "2024-05-24 15:59:59                            1703.000000\n",
      "2024-05-24 16:59:59                            1731.000000\n",
      "2024-05-24 17:59:59                            1616.000000\n",
      "2024-05-24 18:59:59                             535.000000\n",
      "2024-05-24 19:59:59                             -87.864593\n",
      "2024-05-24 20:59:59                              12.136259\n",
      "2024-05-24 21:59:59                             718.226815\n",
      "2024-05-24 22:59:59                            1324.771670\n",
      "2024-05-24 23:59:59                            1714.000000\n",
      "2024-05-25 00:59:59                            1834.000000\n",
      "2024-05-25 01:59:59                            1517.000000\n",
      "2024-05-25 02:59:59                            1536.000000\n",
      "2024-05-25 03:59:59                            1392.000000\n",
      "2024-05-25 04:59:59                            1318.000000\n",
      "2024-05-25 05:59:59                             955.000000\n",
      "2024-05-25 06:59:59                             791.000000\n",
      "2024-05-25 07:59:59                             556.000000\n",
      "2024-05-25 08:59:59                             407.000000\n",
      "2024-05-25 09:59:59                             289.000000\n"
     ]
    },
    {
     "name": "stderr",
     "output_type": "stream",
     "text": [
      "C:\\Users\\riabt\\AppData\\Local\\Temp\\ipykernel_25736\\2641358913.py:34: DeprecationWarning: Conversion of an array with ndim > 0 to a scalar is deprecated, and will error in future. Ensure you extract a single element from your array before performing this operation. (Deprecated NumPy 1.25.)\n",
      "  predict_index = data.index[int(i_before):int(i_after) + 1]\n"
     ]
    },
    {
     "ename": "KeyError",
     "evalue": "\"None of [DatetimeIndex(['2024-05-24 19:59:59', '2024-05-24 20:59:59',\\n               '2024-05-24 21:59:59', '2024-05-24 22:59:59'],\\n              dtype='datetime64[ns]', name='timestamp', freq=None)] are in the [columns]\"",
     "output_type": "error",
     "traceback": [
      "\u001b[1;31m---------------------------------------------------------------------------\u001b[0m",
      "\u001b[1;31mKeyError\u001b[0m                                  Traceback (most recent call last)",
      "Cell \u001b[1;32mIn[147], line 69\u001b[0m\n\u001b[0;32m     67\u001b[0m resulted_df \u001b[39m=\u001b[39m pd\u001b[39m.\u001b[39mDataFrame(index\u001b[39m=\u001b[39mdata_dfs[\u001b[39m0\u001b[39m][\u001b[39m1\u001b[39m]\u001b[39m.\u001b[39mindex)\n\u001b[0;32m     68\u001b[0m \u001b[39mfor\u001b[39;00m name, initial_df \u001b[39min\u001b[39;00m data_dfs:\n\u001b[1;32m---> 69\u001b[0m     predicted \u001b[39m=\u001b[39m predict(initial_df, name)\n\u001b[0;32m     70\u001b[0m     resulted_df \u001b[39m=\u001b[39m pd\u001b[39m.\u001b[39mconcat([resulted_df, predicted], axis\u001b[39m=\u001b[39m\u001b[39m1\u001b[39m)\n",
      "Cell \u001b[1;32mIn[147], line 36\u001b[0m, in \u001b[0;36mpredict\u001b[1;34m(df, title)\u001b[0m\n\u001b[0;32m     33\u001b[0m     \u001b[39mprint\u001b[39m(interpolation)\n\u001b[0;32m     34\u001b[0m     predict_index \u001b[39m=\u001b[39m data\u001b[39m.\u001b[39mindex[\u001b[39mint\u001b[39m(i_before):\u001b[39mint\u001b[39m(i_after) \u001b[39m+\u001b[39m \u001b[39m1\u001b[39m]\n\u001b[0;32m     35\u001b[0m     predicted_df\u001b[39m.\u001b[39mloc[predict_index,\n\u001b[1;32m---> 36\u001b[0m                      \u001b[39mf\u001b[39m\u001b[39m'\u001b[39m\u001b[39m{\u001b[39;00mtitle\u001b[39m}\u001b[39;00m\u001b[39m - \u001b[39m\u001b[39m{\u001b[39;00mcol\u001b[39m}\u001b[39;00m\u001b[39m: predict\u001b[39m\u001b[39m'\u001b[39m] \u001b[39m=\u001b[39m interpolation[predict_index]\n\u001b[0;32m     37\u001b[0m \u001b[39melse\u001b[39;00m:\n\u001b[0;32m     38\u001b[0m     train_end \u001b[39m=\u001b[39m data[:start]\u001b[39m.\u001b[39mindex[\u001b[39m-\u001b[39m\u001b[39m2\u001b[39m]\n",
      "File \u001b[1;32md:\\projects\\PycharmProjects\\transportation\\venv\\lib\\site-packages\\pandas\\core\\frame.py:4108\u001b[0m, in \u001b[0;36mDataFrame.__getitem__\u001b[1;34m(self, key)\u001b[0m\n\u001b[0;32m   4106\u001b[0m     \u001b[39mif\u001b[39;00m is_iterator(key):\n\u001b[0;32m   4107\u001b[0m         key \u001b[39m=\u001b[39m \u001b[39mlist\u001b[39m(key)\n\u001b[1;32m-> 4108\u001b[0m     indexer \u001b[39m=\u001b[39m \u001b[39mself\u001b[39;49m\u001b[39m.\u001b[39;49mcolumns\u001b[39m.\u001b[39;49m_get_indexer_strict(key, \u001b[39m\"\u001b[39;49m\u001b[39mcolumns\u001b[39;49m\u001b[39m\"\u001b[39;49m)[\u001b[39m1\u001b[39m]\n\u001b[0;32m   4110\u001b[0m \u001b[39m# take() does not accept boolean indexers\u001b[39;00m\n\u001b[0;32m   4111\u001b[0m \u001b[39mif\u001b[39;00m \u001b[39mgetattr\u001b[39m(indexer, \u001b[39m\"\u001b[39m\u001b[39mdtype\u001b[39m\u001b[39m\"\u001b[39m, \u001b[39mNone\u001b[39;00m) \u001b[39m==\u001b[39m \u001b[39mbool\u001b[39m:\n",
      "File \u001b[1;32md:\\projects\\PycharmProjects\\transportation\\venv\\lib\\site-packages\\pandas\\core\\indexes\\base.py:6200\u001b[0m, in \u001b[0;36mIndex._get_indexer_strict\u001b[1;34m(self, key, axis_name)\u001b[0m\n\u001b[0;32m   6197\u001b[0m \u001b[39melse\u001b[39;00m:\n\u001b[0;32m   6198\u001b[0m     keyarr, indexer, new_indexer \u001b[39m=\u001b[39m \u001b[39mself\u001b[39m\u001b[39m.\u001b[39m_reindex_non_unique(keyarr)\n\u001b[1;32m-> 6200\u001b[0m \u001b[39mself\u001b[39;49m\u001b[39m.\u001b[39;49m_raise_if_missing(keyarr, indexer, axis_name)\n\u001b[0;32m   6202\u001b[0m keyarr \u001b[39m=\u001b[39m \u001b[39mself\u001b[39m\u001b[39m.\u001b[39mtake(indexer)\n\u001b[0;32m   6203\u001b[0m \u001b[39mif\u001b[39;00m \u001b[39misinstance\u001b[39m(key, Index):\n\u001b[0;32m   6204\u001b[0m     \u001b[39m# GH 42790 - Preserve name from an Index\u001b[39;00m\n",
      "File \u001b[1;32md:\\projects\\PycharmProjects\\transportation\\venv\\lib\\site-packages\\pandas\\core\\indexes\\base.py:6249\u001b[0m, in \u001b[0;36mIndex._raise_if_missing\u001b[1;34m(self, key, indexer, axis_name)\u001b[0m\n\u001b[0;32m   6247\u001b[0m \u001b[39mif\u001b[39;00m nmissing:\n\u001b[0;32m   6248\u001b[0m     \u001b[39mif\u001b[39;00m nmissing \u001b[39m==\u001b[39m \u001b[39mlen\u001b[39m(indexer):\n\u001b[1;32m-> 6249\u001b[0m         \u001b[39mraise\u001b[39;00m \u001b[39mKeyError\u001b[39;00m(\u001b[39mf\u001b[39m\u001b[39m\"\u001b[39m\u001b[39mNone of [\u001b[39m\u001b[39m{\u001b[39;00mkey\u001b[39m}\u001b[39;00m\u001b[39m] are in the [\u001b[39m\u001b[39m{\u001b[39;00maxis_name\u001b[39m}\u001b[39;00m\u001b[39m]\u001b[39m\u001b[39m\"\u001b[39m)\n\u001b[0;32m   6251\u001b[0m     not_found \u001b[39m=\u001b[39m \u001b[39mlist\u001b[39m(ensure_index(key)[missing_mask\u001b[39m.\u001b[39mnonzero()[\u001b[39m0\u001b[39m]]\u001b[39m.\u001b[39munique())\n\u001b[0;32m   6252\u001b[0m     \u001b[39mraise\u001b[39;00m \u001b[39mKeyError\u001b[39;00m(\u001b[39mf\u001b[39m\u001b[39m\"\u001b[39m\u001b[39m{\u001b[39;00mnot_found\u001b[39m}\u001b[39;00m\u001b[39m not in index\u001b[39m\u001b[39m\"\u001b[39m)\n",
      "\u001b[1;31mKeyError\u001b[0m: \"None of [DatetimeIndex(['2024-05-24 19:59:59', '2024-05-24 20:59:59',\\n               '2024-05-24 21:59:59', '2024-05-24 22:59:59'],\\n              dtype='datetime64[ns]', name='timestamp', freq=None)] are in the [columns]\""
     ]
    }
   ],
   "source": [
    "def predict(df, title):\n",
    "    predicted_df = pd.DataFrame(index=df.index)\n",
    "    for col in df.columns:\n",
    "        data = df[col].to_frame().sort_index()\n",
    "        data['is_nan'] = data[col].isna().astype(int)\n",
    "        data['group'] = (data['is_nan'].diff() == 1).cumsum()\n",
    "        data = data.reset_index()\n",
    "        nan_intervals = data[data['is_nan'] == 1].groupby(\n",
    "            'group').agg(start=('timestamp', 'first'), end=('timestamp', 'last'))\n",
    "        data = data.set_index('timestamp')\n",
    "        data = data.drop(['is_nan', 'group'], axis=1)\n",
    "        data = data.astype(float)\n",
    "        nan_intervals['duration'] = nan_intervals['end'] - nan_intervals['start']\n",
    "        if (len(nan_intervals) == 0):\n",
    "            predicted_df[f'{title} - {col} - predict'] = pd.Series(\n",
    "                    index=predicted_df.index)\n",
    "            continue\n",
    "        for interval in nan_intervals.itertuples():\n",
    "            if (len(interval) == 0):\n",
    "                predicted_df[f'{col} - predict'] = pd.Series(\n",
    "                    index=predicted_df.index)\n",
    "                continue\n",
    "            start, end, duration = interval.start, interval.end, interval.duration\n",
    "            \n",
    "            if (duration < pd.Timedelta(hours=5)):\n",
    "                i_before = data.index.get_indexer([start]) - 1\n",
    "                i_after = data.index.get_indexer([end]) + 1\n",
    "                data.iloc[i_before] = np.nan\n",
    "                data.iloc[i_after] = np.nan\n",
    "                interpolation = data[start - pd.Timedelta(hours=12):end + pd.Timedelta(hours=12)\n",
    "                     ].interpolate(method='spline', order=2)\n",
    "                # predict_index =  data.index[i_before[0]:i_after[0] + 1]\n",
    "                print(interpolation)\n",
    "                predict_index = data.index[int(i_before):int(i_after) + 1]\n",
    "                predicted_df.loc[predict_index,\n",
    "                                 f'{title} - {col}: predict'] = interpolation[predict_index]\n",
    "            else:\n",
    "                train_end = data[:start].index[-2]\n",
    "                train_start = (\n",
    "                    train_end - pd.Timedelta(days=train_end.weekday())).normalize()\n",
    "                train_start = data.iloc[data.index.get_indexer(\n",
    "                    [train_start], method='nearest')[0]].name\n",
    "                train = data[train_start:train_end]\n",
    "                seasonal_periods = 24\n",
    "                eps = 10e-05\n",
    "                if len(train) < seasonal_periods * 2:\n",
    "                    train = pd.concat(\n",
    "                        [train, data[:train_start][len(train) - (seasonal_periods*2+1):-1]]).sort_index()\n",
    "                train = np.log(train.replace(0,1) + eps)\n",
    "                fit = ExponentialSmoothing(\n",
    "                    train.values,\n",
    "                    trend=None,\n",
    "                    seasonal='mul',\n",
    "                    seasonal_periods=seasonal_periods,\n",
    "                    damped_trend=False,\n",
    "                ).fit()\n",
    "                predict_index = data.index[data.index.get_loc(\n",
    "                    start-1):data.index.get_loc(end) + 2]\n",
    "                nan_counts = len(data[start:end])\n",
    "                data[train_start:train_end] = data[train_start:train_end] + eps\n",
    "                predicted_df.loc[predict_index,\n",
    "                                     f'{title} - {col}: predict'] = np.exp(fit.forecast(int(nan_counts + 1)))\n",
    "                \n",
    "    return predicted_df\n",
    "\n",
    "\n",
    "resulted_df = pd.DataFrame(index=data_dfs[0][1].index)\n",
    "for name, initial_df in data_dfs:\n",
    "    predicted = predict(initial_df, name)\n",
    "    resulted_df = pd.concat([resulted_df, predicted], axis=1)"
   ]
  },
  {
   "cell_type": "code",
   "execution_count": 141,
   "metadata": {},
   "outputs": [
    {
     "data": {
      "text/plain": [
       "2024-05-24 19:59:59     464\n",
       "2024-05-24 20:59:59     NaN\n",
       "2024-05-24 21:59:59     NaN\n",
       "2024-05-24 22:59:59    1583\n",
       "Name: Итого Общая интенсивность автомобилей, dtype: object"
      ]
     },
     "execution_count": 141,
     "metadata": {},
     "output_type": "execute_result"
    }
   ],
   "source": [
    "data_dfs[0][1]['Итого Общая интенсивность автомобилей'].loc[pd.to_datetime(['2024-05-24 19:59:59', '2024-05-24 20:59:59','2024-05-24 21:59:59', '2024-05-24 22:59:59'])]"
   ]
  },
  {
   "cell_type": "code",
   "execution_count": null,
   "metadata": {},
   "outputs": [
    {
     "data": {
      "text/plain": [
       "timestamp\n",
       "2024-01-01 00:59:59     65.0001\n",
       "2024-01-01 01:59:59    134.0001\n",
       "2024-01-01 02:59:59    106.0001\n",
       "2024-01-01 03:59:59     73.0001\n",
       "2024-01-01 04:59:59     42.0001\n",
       "                         ...   \n",
       "2024-12-31 19:59:59    284.0001\n",
       "2024-12-31 20:59:59    212.0001\n",
       "2024-12-31 21:59:59    186.0001\n",
       "2024-12-31 22:59:59    130.0001\n",
       "2024-12-31 23:59:59     47.0001\n",
       "Name: Обратное, Length: 8771, dtype: object"
      ]
     },
     "execution_count": 116,
     "metadata": {},
     "output_type": "execute_result"
    }
   ],
   "source": [
    "data_dfs[0][1]['Обратное'] + 10e-05"
   ]
  },
  {
   "cell_type": "code",
   "execution_count": null,
   "metadata": {},
   "outputs": [
    {
     "name": "stdout",
     "output_type": "stream",
     "text": [
      "Общая интенсивность автомобилей\n",
      "Легковые (до 6 м)\n",
      "Малые груз. (6-9 м)\n",
      "Грузовые (9-13 м)\n",
      "Груз. большие (13-22 м)\n",
      "Автопоезда (22-30 м)\n",
      "Автобусы\n",
      "Мотоциклы\n",
      "Скорость, км/ч\n",
      "Загрузка, %\n"
     ]
    }
   ],
   "source": [
    "for name, initial_df in data_dfs:\n",
    "    print(name)"
   ]
  },
  {
   "cell_type": "code",
   "execution_count": null,
   "metadata": {},
   "outputs": [],
   "source": [
    "# = pd.DataFrame(index=data_dfs[0][1].index)\n",
    "# resulted_df['Общая интенсивность автомобилей - Итого: predict'][~resulted_df['Общая интенсивность автомобилей - Итого: predict'].isna()]\n",
    "# for name, df in data_dfs:\n",
    "#     resulted_df = pd.concat([resulted_df, df], axis=1)\n",
    "    "
   ]
  },
  {
   "cell_type": "code",
   "execution_count": null,
   "metadata": {},
   "outputs": [],
   "source": [
    "info_row = [np.nan]\n",
    "for col_name, cols in zip(list(data_groups.keys())[1:], list(data_groups.values())[1:]):\n",
    "    info_row += [col_name] * len(cols)"
   ]
  },
  {
   "cell_type": "code",
   "execution_count": null,
   "metadata": {},
   "outputs": [
    {
     "data": {
      "text/plain": [
       "[(nan, 'Общая интенсивность автомобилей - Итого - predict'),\n",
       " ('Общая интенсивность автомобилей',\n",
       "  'Общая интенсивность автомобилей - Прямое - predict'),\n",
       " ('Общая интенсивность автомобилей',\n",
       "  'Общая интенсивность автомобилей - Обратное: predict'),\n",
       " ('Общая интенсивность автомобилей', 'Легковые (до 6 м) - Итого - predict'),\n",
       " ('Легковые (до 6 м)', 'Легковые (до 6 м) - Прямое - predict'),\n",
       " ('Легковые (до 6 м)', 'Легковые (до 6 м) - Обратное: predict'),\n",
       " ('Легковые (до 6 м)', 'Малые груз. (6-9 м) - Итого - predict'),\n",
       " ('Малые груз. (6-9 м)', 'Малые груз. (6-9 м) - Прямое - predict'),\n",
       " ('Малые груз. (6-9 м)', 'Малые груз. (6-9 м) - Обратное: predict'),\n",
       " ('Малые груз. (6-9 м)', 'Грузовые (9-13 м) - Итого - predict'),\n",
       " ('Грузовые (9-13 м)', 'Грузовые (9-13 м) - Прямое - predict'),\n",
       " ('Грузовые (9-13 м)', 'Грузовые (9-13 м) - Обратное: predict'),\n",
       " ('Грузовые (9-13 м)', 'Груз. большие (13-22 м) - Итого - predict'),\n",
       " ('Груз. большие (13-22 м)', 'Груз. большие (13-22 м) - Прямое - predict'),\n",
       " ('Груз. большие (13-22 м)', 'Груз. большие (13-22 м) - Обратное: predict'),\n",
       " ('Груз. большие (13-22 м)', 'Автопоезда (22-30 м) - Итого - predict'),\n",
       " ('Автопоезда (22-30 м)', 'Автопоезда (22-30 м) - Прямое - predict'),\n",
       " ('Автопоезда (22-30 м)', 'Автопоезда (22-30 м) - Обратное: predict'),\n",
       " ('Автопоезда (22-30 м)', 'Автобусы - Итого - predict'),\n",
       " ('Автобусы', 'Автобусы - Прямое - predict'),\n",
       " ('Автобусы', 'Автобусы - Обратное: predict'),\n",
       " ('Автобусы', 'Мотоциклы - Итого - predict'),\n",
       " ('Мотоциклы', 'Мотоциклы - Прямое - predict'),\n",
       " ('Мотоциклы', 'Мотоциклы - Обратное: predict'),\n",
       " ('Мотоциклы', 'Скорость, км/ч - Прямое - predict'),\n",
       " ('Скорость, км/ч', 'Скорость, км/ч - Обратное: predict'),\n",
       " ('Скорость, км/ч', 'Загрузка, % - Прямое - predict'),\n",
       " ('Загрузка, %', 'Загрузка, % - Обратное: predict')]"
      ]
     },
     "execution_count": 120,
     "metadata": {},
     "output_type": "execute_result"
    }
   ],
   "source": [
    "list(zip(info_row, resulted_df.columns))"
   ]
  },
  {
   "cell_type": "code",
   "execution_count": null,
   "metadata": {},
   "outputs": [
    {
     "data": {
      "text/plain": [
       "(29, (8771, 28))"
      ]
     },
     "execution_count": 121,
     "metadata": {},
     "output_type": "execute_result"
    }
   ],
   "source": [
    "len(info_row), resulted_df.shape"
   ]
  },
  {
   "cell_type": "code",
   "execution_count": null,
   "metadata": {},
   "outputs": [
    {
     "name": "stderr",
     "output_type": "stream",
     "text": [
      "C:\\Users\\riabt\\AppData\\Local\\Temp\\ipykernel_24540\\4257859202.py:2: FutureWarning: The behavior of DataFrame concatenation with empty or all-NA entries is deprecated. In a future version, this will no longer exclude empty or all-NA columns when determining the result dtypes. To retain the old behavior, exclude the relevant entries before the concat operation.\n",
      "  resulted_df.loc[-1] = info_row\n"
     ]
    }
   ],
   "source": [
    "resulted_df = resulted_df.reset_index()\n",
    "resulted_df.loc[-1] = info_row"
   ]
  },
  {
   "cell_type": "code",
   "execution_count": null,
   "metadata": {},
   "outputs": [],
   "source": [
    "resulted_df.index = resulted_df.index + 1\n",
    "resulted_df = resulted_df.sort_index()"
   ]
  },
  {
   "cell_type": "code",
   "execution_count": null,
   "metadata": {},
   "outputs": [
    {
     "data": {
      "text/plain": [
       "'..\\\\samples/output/км_32+000_а-д_А-146_Краснодар-Верхнебаканский___31-03-2025__00-51-51.xslx'"
      ]
     },
     "execution_count": 125,
     "metadata": {},
     "output_type": "execute_result"
    }
   ],
   "source": [
    "save_path = str(f'{pathlib.Path(path).parent}/output/{title.replace(\"/\", \"-\").replace(\" \", \"_\")}__{datetime.datetime.now().strftime(\"%d-%m-%Y__%H-%M-%S\")}.xslx')\n",
    "save_path"
   ]
  },
  {
   "cell_type": "code",
   "execution_count": null,
   "metadata": {},
   "outputs": [
    {
     "ename": "NameError",
     "evalue": "name 'initial_df' is not defined",
     "output_type": "error",
     "traceback": [
      "\u001b[1;31m---------------------------------------------------------------------------\u001b[0m",
      "\u001b[1;31mNameError\u001b[0m                                 Traceback (most recent call last)",
      "Cell \u001b[1;32mIn[147], line 1\u001b[0m\n\u001b[1;32m----> 1\u001b[0m initial_df\n",
      "\u001b[1;31mNameError\u001b[0m: name 'initial_df' is not defined"
     ]
    }
   ],
   "source": [
    "initial_df"
   ]
  },
  {
   "cell_type": "code",
   "execution_count": null,
   "metadata": {},
   "outputs": [],
   "source": [
    "with pd.ExcelWriter(path,  engine='xlsxwriter') as writer:\n",
    "    # исходные данные\n",
    "    initial_df.to_excel(excel_writer=writer, \n",
    "                         sheet_name='Исходные данные', index=False)\n",
    "    # предсказанные данные\n",
    "    resulted_df = resulted_df.reset_index().rename(columns={'timestamp': 'Дата'})\n",
    "    if 'level_0' in resulted_df.columns:\n",
    "        resulted_df.drop('level_0', axis=1, inplace=True)\n",
    "    if 'index' in resulted_df.columns:\n",
    "        resulted_df.drop('index', axis=1, inplace=True)\n",
    "    resulted_df['Дата'] = resulted_df['Дата'].astype(str)\n",
    "    resulted_df.to_excel(excel_writer=writer, \n",
    "                         sheet_name='Результаты', index=False)"
   ]
  }
 ],
 "metadata": {
  "kernelspec": {
   "display_name": "venv",
   "language": "python",
   "name": "python3"
  },
  "language_info": {
   "codemirror_mode": {
    "name": "ipython",
    "version": 3
   },
   "file_extension": ".py",
   "mimetype": "text/x-python",
   "name": "python",
   "nbconvert_exporter": "python",
   "pygments_lexer": "ipython3",
   "version": "3.9.13"
  }
 },
 "nbformat": 4,
 "nbformat_minor": 2
}
