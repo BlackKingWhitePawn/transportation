{
 "cells": [
  {
   "cell_type": "code",
   "execution_count": 2,
   "metadata": {},
   "outputs": [
    {
     "ename": "FileNotFoundError",
     "evalue": "[Errno 2] No such file or directory: 'test\\\\input-data__19-03__23-28-55.csv'",
     "output_type": "error",
     "traceback": [
      "\u001b[1;31m---------------------------------------------------------------------------\u001b[0m",
      "\u001b[1;31mFileNotFoundError\u001b[0m                         Traceback (most recent call last)",
      "Cell \u001b[1;32mIn[2], line 60\u001b[0m\n\u001b[0;32m     55\u001b[0m     rows \u001b[39m=\u001b[39m \u001b[39mlist\u001b[39m(nan_intervals\u001b[39m.\u001b[39mitertuples())\n\u001b[0;32m     56\u001b[0m     nan_intervals\u001b[39m.\u001b[39mitertuples(\u001b[39mlambda\u001b[39;00m interval: fill_na(\n\u001b[0;32m     57\u001b[0m         df, interval, method\u001b[39m=\u001b[39m\u001b[39m'\u001b[39m\u001b[39mexp_smooth\u001b[39m\u001b[39m'\u001b[39m))\n\u001b[1;32m---> 60\u001b[0m process_dataframe(\u001b[39m'\u001b[39;49m\u001b[39mtest\u001b[39;49m\u001b[39m\\\u001b[39;49m\u001b[39minput-data__19-03__23-28-55.csv\u001b[39;49m\u001b[39m'\u001b[39;49m)\n",
      "Cell \u001b[1;32mIn[2], line 53\u001b[0m, in \u001b[0;36mprocess_dataframe\u001b[1;34m(path)\u001b[0m\n\u001b[0;32m     52\u001b[0m \u001b[39mdef\u001b[39;00m \u001b[39mprocess_dataframe\u001b[39m(path: \u001b[39mstr\u001b[39m):\n\u001b[1;32m---> 53\u001b[0m     df \u001b[39m=\u001b[39m initialize_data(path, \u001b[39m2024\u001b[39;49m)\n\u001b[0;32m     54\u001b[0m     nan_intervals \u001b[39m=\u001b[39m get_na_intervals(df)\n\u001b[0;32m     55\u001b[0m     rows \u001b[39m=\u001b[39m \u001b[39mlist\u001b[39m(nan_intervals\u001b[39m.\u001b[39mitertuples())\n",
      "Cell \u001b[1;32mIn[2], line 21\u001b[0m, in \u001b[0;36minitialize_data\u001b[1;34m(path, year)\u001b[0m\n\u001b[0;32m      9\u001b[0m \u001b[39mdef\u001b[39;00m \u001b[39minitialize_data\u001b[39m(path: \u001b[39mstr\u001b[39m, year: \u001b[39mint\u001b[39m):\n\u001b[0;32m     10\u001b[0m     \u001b[39m# puid_df = pd.read_csv(path)\u001b[39;00m\n\u001b[0;32m     11\u001b[0m     \u001b[39m# puid_df['keys'] = puid_df['keys'].apply(ast.literal_eval)\u001b[39;00m\n\u001b[1;32m   (...)\u001b[0m\n\u001b[0;32m     18\u001b[0m     \u001b[39m# general_key_indices = [keys.index('volume'), keys.index(\u001b[39;00m\n\u001b[0;32m     19\u001b[0m     \u001b[39m#     'speed'), keys.index('occupancy')]\u001b[39;00m\n\u001b[1;32m---> 21\u001b[0m     df \u001b[39m=\u001b[39m pd\u001b[39m.\u001b[39;49mread_csv(path)\n\u001b[0;32m     22\u001b[0m     df \u001b[39m=\u001b[39m df\u001b[39m.\u001b[39mset_index(\u001b[39m'\u001b[39m\u001b[39mindex\u001b[39m\u001b[39m'\u001b[39m)\n\u001b[0;32m     23\u001b[0m     df\u001b[39m.\u001b[39mindex \u001b[39m=\u001b[39m pd\u001b[39m.\u001b[39mto_datetime(df\u001b[39m.\u001b[39mindex)\n",
      "File \u001b[1;32md:\\projects\\PycharmProjects\\transportation\\venv\\lib\\site-packages\\pandas\\io\\parsers\\readers.py:1026\u001b[0m, in \u001b[0;36mread_csv\u001b[1;34m(filepath_or_buffer, sep, delimiter, header, names, index_col, usecols, dtype, engine, converters, true_values, false_values, skipinitialspace, skiprows, skipfooter, nrows, na_values, keep_default_na, na_filter, verbose, skip_blank_lines, parse_dates, infer_datetime_format, keep_date_col, date_parser, date_format, dayfirst, cache_dates, iterator, chunksize, compression, thousands, decimal, lineterminator, quotechar, quoting, doublequote, escapechar, comment, encoding, encoding_errors, dialect, on_bad_lines, delim_whitespace, low_memory, memory_map, float_precision, storage_options, dtype_backend)\u001b[0m\n\u001b[0;32m   1013\u001b[0m kwds_defaults \u001b[39m=\u001b[39m _refine_defaults_read(\n\u001b[0;32m   1014\u001b[0m     dialect,\n\u001b[0;32m   1015\u001b[0m     delimiter,\n\u001b[1;32m   (...)\u001b[0m\n\u001b[0;32m   1022\u001b[0m     dtype_backend\u001b[39m=\u001b[39mdtype_backend,\n\u001b[0;32m   1023\u001b[0m )\n\u001b[0;32m   1024\u001b[0m kwds\u001b[39m.\u001b[39mupdate(kwds_defaults)\n\u001b[1;32m-> 1026\u001b[0m \u001b[39mreturn\u001b[39;00m _read(filepath_or_buffer, kwds)\n",
      "File \u001b[1;32md:\\projects\\PycharmProjects\\transportation\\venv\\lib\\site-packages\\pandas\\io\\parsers\\readers.py:620\u001b[0m, in \u001b[0;36m_read\u001b[1;34m(filepath_or_buffer, kwds)\u001b[0m\n\u001b[0;32m    617\u001b[0m _validate_names(kwds\u001b[39m.\u001b[39mget(\u001b[39m\"\u001b[39m\u001b[39mnames\u001b[39m\u001b[39m\"\u001b[39m, \u001b[39mNone\u001b[39;00m))\n\u001b[0;32m    619\u001b[0m \u001b[39m# Create the parser.\u001b[39;00m\n\u001b[1;32m--> 620\u001b[0m parser \u001b[39m=\u001b[39m TextFileReader(filepath_or_buffer, \u001b[39m*\u001b[39m\u001b[39m*\u001b[39mkwds)\n\u001b[0;32m    622\u001b[0m \u001b[39mif\u001b[39;00m chunksize \u001b[39mor\u001b[39;00m iterator:\n\u001b[0;32m    623\u001b[0m     \u001b[39mreturn\u001b[39;00m parser\n",
      "File \u001b[1;32md:\\projects\\PycharmProjects\\transportation\\venv\\lib\\site-packages\\pandas\\io\\parsers\\readers.py:1620\u001b[0m, in \u001b[0;36mTextFileReader.__init__\u001b[1;34m(self, f, engine, **kwds)\u001b[0m\n\u001b[0;32m   1617\u001b[0m     \u001b[39mself\u001b[39m\u001b[39m.\u001b[39moptions[\u001b[39m\"\u001b[39m\u001b[39mhas_index_names\u001b[39m\u001b[39m\"\u001b[39m] \u001b[39m=\u001b[39m kwds[\u001b[39m\"\u001b[39m\u001b[39mhas_index_names\u001b[39m\u001b[39m\"\u001b[39m]\n\u001b[0;32m   1619\u001b[0m \u001b[39mself\u001b[39m\u001b[39m.\u001b[39mhandles: IOHandles \u001b[39m|\u001b[39m \u001b[39mNone\u001b[39;00m \u001b[39m=\u001b[39m \u001b[39mNone\u001b[39;00m\n\u001b[1;32m-> 1620\u001b[0m \u001b[39mself\u001b[39m\u001b[39m.\u001b[39m_engine \u001b[39m=\u001b[39m \u001b[39mself\u001b[39;49m\u001b[39m.\u001b[39;49m_make_engine(f, \u001b[39mself\u001b[39;49m\u001b[39m.\u001b[39;49mengine)\n",
      "File \u001b[1;32md:\\projects\\PycharmProjects\\transportation\\venv\\lib\\site-packages\\pandas\\io\\parsers\\readers.py:1880\u001b[0m, in \u001b[0;36mTextFileReader._make_engine\u001b[1;34m(self, f, engine)\u001b[0m\n\u001b[0;32m   1878\u001b[0m     \u001b[39mif\u001b[39;00m \u001b[39m\"\u001b[39m\u001b[39mb\u001b[39m\u001b[39m\"\u001b[39m \u001b[39mnot\u001b[39;00m \u001b[39min\u001b[39;00m mode:\n\u001b[0;32m   1879\u001b[0m         mode \u001b[39m+\u001b[39m\u001b[39m=\u001b[39m \u001b[39m\"\u001b[39m\u001b[39mb\u001b[39m\u001b[39m\"\u001b[39m\n\u001b[1;32m-> 1880\u001b[0m \u001b[39mself\u001b[39m\u001b[39m.\u001b[39mhandles \u001b[39m=\u001b[39m get_handle(\n\u001b[0;32m   1881\u001b[0m     f,\n\u001b[0;32m   1882\u001b[0m     mode,\n\u001b[0;32m   1883\u001b[0m     encoding\u001b[39m=\u001b[39;49m\u001b[39mself\u001b[39;49m\u001b[39m.\u001b[39;49moptions\u001b[39m.\u001b[39;49mget(\u001b[39m\"\u001b[39;49m\u001b[39mencoding\u001b[39;49m\u001b[39m\"\u001b[39;49m, \u001b[39mNone\u001b[39;49;00m),\n\u001b[0;32m   1884\u001b[0m     compression\u001b[39m=\u001b[39;49m\u001b[39mself\u001b[39;49m\u001b[39m.\u001b[39;49moptions\u001b[39m.\u001b[39;49mget(\u001b[39m\"\u001b[39;49m\u001b[39mcompression\u001b[39;49m\u001b[39m\"\u001b[39;49m, \u001b[39mNone\u001b[39;49;00m),\n\u001b[0;32m   1885\u001b[0m     memory_map\u001b[39m=\u001b[39;49m\u001b[39mself\u001b[39;49m\u001b[39m.\u001b[39;49moptions\u001b[39m.\u001b[39;49mget(\u001b[39m\"\u001b[39;49m\u001b[39mmemory_map\u001b[39;49m\u001b[39m\"\u001b[39;49m, \u001b[39mFalse\u001b[39;49;00m),\n\u001b[0;32m   1886\u001b[0m     is_text\u001b[39m=\u001b[39;49mis_text,\n\u001b[0;32m   1887\u001b[0m     errors\u001b[39m=\u001b[39;49m\u001b[39mself\u001b[39;49m\u001b[39m.\u001b[39;49moptions\u001b[39m.\u001b[39;49mget(\u001b[39m\"\u001b[39;49m\u001b[39mencoding_errors\u001b[39;49m\u001b[39m\"\u001b[39;49m, \u001b[39m\"\u001b[39;49m\u001b[39mstrict\u001b[39;49m\u001b[39m\"\u001b[39;49m),\n\u001b[0;32m   1888\u001b[0m     storage_options\u001b[39m=\u001b[39;49m\u001b[39mself\u001b[39;49m\u001b[39m.\u001b[39;49moptions\u001b[39m.\u001b[39;49mget(\u001b[39m\"\u001b[39;49m\u001b[39mstorage_options\u001b[39;49m\u001b[39m\"\u001b[39;49m, \u001b[39mNone\u001b[39;49;00m),\n\u001b[0;32m   1889\u001b[0m )\n\u001b[0;32m   1890\u001b[0m \u001b[39massert\u001b[39;00m \u001b[39mself\u001b[39m\u001b[39m.\u001b[39mhandles \u001b[39mis\u001b[39;00m \u001b[39mnot\u001b[39;00m \u001b[39mNone\u001b[39;00m\n\u001b[0;32m   1891\u001b[0m f \u001b[39m=\u001b[39m \u001b[39mself\u001b[39m\u001b[39m.\u001b[39mhandles\u001b[39m.\u001b[39mhandle\n",
      "File \u001b[1;32md:\\projects\\PycharmProjects\\transportation\\venv\\lib\\site-packages\\pandas\\io\\common.py:873\u001b[0m, in \u001b[0;36mget_handle\u001b[1;34m(path_or_buf, mode, encoding, compression, memory_map, is_text, errors, storage_options)\u001b[0m\n\u001b[0;32m    868\u001b[0m \u001b[39melif\u001b[39;00m \u001b[39misinstance\u001b[39m(handle, \u001b[39mstr\u001b[39m):\n\u001b[0;32m    869\u001b[0m     \u001b[39m# Check whether the filename is to be opened in binary mode.\u001b[39;00m\n\u001b[0;32m    870\u001b[0m     \u001b[39m# Binary mode does not support 'encoding' and 'newline'.\u001b[39;00m\n\u001b[0;32m    871\u001b[0m     \u001b[39mif\u001b[39;00m ioargs\u001b[39m.\u001b[39mencoding \u001b[39mand\u001b[39;00m \u001b[39m\"\u001b[39m\u001b[39mb\u001b[39m\u001b[39m\"\u001b[39m \u001b[39mnot\u001b[39;00m \u001b[39min\u001b[39;00m ioargs\u001b[39m.\u001b[39mmode:\n\u001b[0;32m    872\u001b[0m         \u001b[39m# Encoding\u001b[39;00m\n\u001b[1;32m--> 873\u001b[0m         handle \u001b[39m=\u001b[39m \u001b[39mopen\u001b[39;49m(\n\u001b[0;32m    874\u001b[0m             handle,\n\u001b[0;32m    875\u001b[0m             ioargs\u001b[39m.\u001b[39;49mmode,\n\u001b[0;32m    876\u001b[0m             encoding\u001b[39m=\u001b[39;49mioargs\u001b[39m.\u001b[39;49mencoding,\n\u001b[0;32m    877\u001b[0m             errors\u001b[39m=\u001b[39;49merrors,\n\u001b[0;32m    878\u001b[0m             newline\u001b[39m=\u001b[39;49m\u001b[39m\"\u001b[39;49m\u001b[39m\"\u001b[39;49m,\n\u001b[0;32m    879\u001b[0m         )\n\u001b[0;32m    880\u001b[0m     \u001b[39melse\u001b[39;00m:\n\u001b[0;32m    881\u001b[0m         \u001b[39m# Binary mode\u001b[39;00m\n\u001b[0;32m    882\u001b[0m         handle \u001b[39m=\u001b[39m \u001b[39mopen\u001b[39m(handle, ioargs\u001b[39m.\u001b[39mmode)\n",
      "\u001b[1;31mFileNotFoundError\u001b[0m: [Errno 2] No such file or directory: 'test\\\\input-data__19-03__23-28-55.csv'"
     ]
    }
   ],
   "source": [
    "import pandas as pd\n",
    "import ast\n",
    "import json\n",
    "from typing import Union, Literal\n",
    "import statsmodels.api as sm\n",
    "from statsmodels.tsa.holtwinters import ExponentialSmoothing\n",
    "\n",
    "\n",
    "def initialize_data(path: str, year: int):\n",
    "    # puid_df = pd.read_csv(path)\n",
    "    # puid_df['keys'] = puid_df['keys'].apply(ast.literal_eval)\n",
    "    # puid_df['values'] = puid_df['values'].apply(ast.literal_eval)\n",
    "    # puid_df['meta'] = puid_df['meta'].apply(ast.literal_eval)\n",
    "    # meta = list(map(json.loads, puid_df['meta'][0]))\n",
    "    # titles = list(map(\n",
    "    #     lambda x: f'{\"Прямое\" if  x[\"direction\"] == 1 else \"Обратное\"}, полоса {x[\"lane\"]}', meta))\n",
    "    # keys = puid_df['keys'][0][0]\n",
    "    # general_key_indices = [keys.index('volume'), keys.index(\n",
    "    #     'speed'), keys.index('occupancy')]\n",
    "\n",
    "    df = pd.read_csv(path)\n",
    "    df = df.set_index('index')\n",
    "    df.index = pd.to_datetime(df.index)\n",
    "\n",
    "    year_range = pd.date_range(\n",
    "        f'{year}-01-01 00:00', f'{year}-12-31 23:55', freq='5Min')\n",
    "    df = df.reindex(year_range)\n",
    "    df = df.reset_index()\n",
    "\n",
    "    return df\n",
    "\n",
    "\n",
    "def get_na_intervals(df: pd.DataFrame) -> pd.DataFrame:\n",
    "    df['is_nan'] = df['volume'].isna().astype(int)\n",
    "    df['group'] = (df['is_nan'].diff() == 1).cumsum()\n",
    "    nan_intervals = df[df['is_nan'] == 1].groupby(\n",
    "        'group').agg(start=('index', 'first'), end=('index', 'last'))\n",
    "    df = df.set_index('index')\n",
    "    df = df.drop(['is_nan', 'group'], axis=1)\n",
    "    nan_intervals['duration'] = nan_intervals['end'] - nan_intervals['start']\n",
    "    return nan_intervals\n",
    "\n",
    "\n",
    "def fill_na(df: pd.DataFrame, nan_interval: (pd.Timestamp, pd.Timestamp, pd.Timedelta), method:  Literal['exp_smooth', 'moving_average']):\n",
    "    start, end, duration = nan_interval\n",
    "    if (method == 'exp_smooth'):\n",
    "        # check type of interval\n",
    "        # interval_len = pd.Timedelta()\n",
    "        print(start, end, duration)\n",
    "\n",
    "\n",
    "def process_dataframe(path: str):\n",
    "    df = initialize_data(path, 2024)\n",
    "    nan_intervals = get_na_intervals(df)\n",
    "    rows = list(nan_intervals.itertuples())\n",
    "    nan_intervals.itertuples(lambda interval: fill_na(\n",
    "        df, interval, method='exp_smooth'))\n",
    "\n",
    "\n",
    "process_dataframe('test\\input-data__19-03__23-28-55.csv')"
   ]
  },
  {
   "cell_type": "code",
   "execution_count": 3,
   "metadata": {},
   "outputs": [],
   "source": [
    "df = pd.read_csv('input-data__19-03__23-28-55.csv')\n",
    "# nan_intervals = get_na_intervals(df, 2024)\n",
    "# nan_intervals"
   ]
  },
  {
   "cell_type": "code",
   "execution_count": 4,
   "metadata": {},
   "outputs": [],
   "source": [
    "df = df.set_index('index')\n",
    "df.index = pd.to_datetime(df.index)"
   ]
  },
  {
   "cell_type": "code",
   "execution_count": 5,
   "metadata": {},
   "outputs": [],
   "source": [
    "year = 2024\n",
    "year_range = pd.date_range(\n",
    "    f'{year}-01-01 00:00', f'{year}-12-31 23:55', freq='5Min')\n",
    "df = df.reindex(year_range)"
   ]
  },
  {
   "cell_type": "code",
   "execution_count": 6,
   "metadata": {},
   "outputs": [
    {
     "data": {
      "text/html": [
       "<div>\n",
       "<style scoped>\n",
       "    .dataframe tbody tr th:only-of-type {\n",
       "        vertical-align: middle;\n",
       "    }\n",
       "\n",
       "    .dataframe tbody tr th {\n",
       "        vertical-align: top;\n",
       "    }\n",
       "\n",
       "    .dataframe thead th {\n",
       "        text-align: right;\n",
       "    }\n",
       "</style>\n",
       "<table border=\"1\" class=\"dataframe\">\n",
       "  <thead>\n",
       "    <tr style=\"text-align: right;\">\n",
       "      <th></th>\n",
       "      <th>volume</th>\n",
       "    </tr>\n",
       "  </thead>\n",
       "  <tbody>\n",
       "    <tr>\n",
       "      <th>2024-01-01 00:00:00</th>\n",
       "      <td>NaN</td>\n",
       "    </tr>\n",
       "    <tr>\n",
       "      <th>2024-01-01 00:05:00</th>\n",
       "      <td>NaN</td>\n",
       "    </tr>\n",
       "    <tr>\n",
       "      <th>2024-01-01 00:10:00</th>\n",
       "      <td>NaN</td>\n",
       "    </tr>\n",
       "    <tr>\n",
       "      <th>2024-01-01 00:15:00</th>\n",
       "      <td>NaN</td>\n",
       "    </tr>\n",
       "    <tr>\n",
       "      <th>2024-01-01 00:20:00</th>\n",
       "      <td>NaN</td>\n",
       "    </tr>\n",
       "    <tr>\n",
       "      <th>...</th>\n",
       "      <td>...</td>\n",
       "    </tr>\n",
       "    <tr>\n",
       "      <th>2024-12-31 23:35:00</th>\n",
       "      <td>NaN</td>\n",
       "    </tr>\n",
       "    <tr>\n",
       "      <th>2024-12-31 23:40:00</th>\n",
       "      <td>NaN</td>\n",
       "    </tr>\n",
       "    <tr>\n",
       "      <th>2024-12-31 23:45:00</th>\n",
       "      <td>NaN</td>\n",
       "    </tr>\n",
       "    <tr>\n",
       "      <th>2024-12-31 23:50:00</th>\n",
       "      <td>NaN</td>\n",
       "    </tr>\n",
       "    <tr>\n",
       "      <th>2024-12-31 23:55:00</th>\n",
       "      <td>NaN</td>\n",
       "    </tr>\n",
       "  </tbody>\n",
       "</table>\n",
       "<p>105408 rows × 1 columns</p>\n",
       "</div>"
      ],
      "text/plain": [
       "                     volume\n",
       "2024-01-01 00:00:00     NaN\n",
       "2024-01-01 00:05:00     NaN\n",
       "2024-01-01 00:10:00     NaN\n",
       "2024-01-01 00:15:00     NaN\n",
       "2024-01-01 00:20:00     NaN\n",
       "...                     ...\n",
       "2024-12-31 23:35:00     NaN\n",
       "2024-12-31 23:40:00     NaN\n",
       "2024-12-31 23:45:00     NaN\n",
       "2024-12-31 23:50:00     NaN\n",
       "2024-12-31 23:55:00     NaN\n",
       "\n",
       "[105408 rows x 1 columns]"
      ]
     },
     "execution_count": 6,
     "metadata": {},
     "output_type": "execute_result"
    }
   ],
   "source": [
    "df"
   ]
  },
  {
   "cell_type": "code",
   "execution_count": 7,
   "metadata": {},
   "outputs": [],
   "source": [
    "df = df.reset_index()\n",
    "df['is_nan'] = df['volume'].isna().astype(int)\n",
    "df['group'] = (df['is_nan'].diff() == 1).cumsum()\n",
    "nan_intervals = df[df['is_nan'] == 1].groupby(\n",
    "    'group').agg(start=('index', 'first'), end=('index', 'last'))"
   ]
  },
  {
   "cell_type": "code",
   "execution_count": 8,
   "metadata": {},
   "outputs": [
    {
     "data": {
      "text/html": [
       "<div>\n",
       "<style scoped>\n",
       "    .dataframe tbody tr th:only-of-type {\n",
       "        vertical-align: middle;\n",
       "    }\n",
       "\n",
       "    .dataframe tbody tr th {\n",
       "        vertical-align: top;\n",
       "    }\n",
       "\n",
       "    .dataframe thead th {\n",
       "        text-align: right;\n",
       "    }\n",
       "</style>\n",
       "<table border=\"1\" class=\"dataframe\">\n",
       "  <thead>\n",
       "    <tr style=\"text-align: right;\">\n",
       "      <th></th>\n",
       "      <th>volume</th>\n",
       "      <th>is_nan</th>\n",
       "      <th>group</th>\n",
       "    </tr>\n",
       "    <tr>\n",
       "      <th>index</th>\n",
       "      <th></th>\n",
       "      <th></th>\n",
       "      <th></th>\n",
       "    </tr>\n",
       "  </thead>\n",
       "  <tbody>\n",
       "    <tr>\n",
       "      <th>2024-01-01 00:00:00</th>\n",
       "      <td>NaN</td>\n",
       "      <td>1</td>\n",
       "      <td>0</td>\n",
       "    </tr>\n",
       "    <tr>\n",
       "      <th>2024-01-01 00:05:00</th>\n",
       "      <td>NaN</td>\n",
       "      <td>1</td>\n",
       "      <td>0</td>\n",
       "    </tr>\n",
       "    <tr>\n",
       "      <th>2024-01-01 00:10:00</th>\n",
       "      <td>NaN</td>\n",
       "      <td>1</td>\n",
       "      <td>0</td>\n",
       "    </tr>\n",
       "    <tr>\n",
       "      <th>2024-01-01 00:15:00</th>\n",
       "      <td>NaN</td>\n",
       "      <td>1</td>\n",
       "      <td>0</td>\n",
       "    </tr>\n",
       "    <tr>\n",
       "      <th>2024-01-01 00:20:00</th>\n",
       "      <td>NaN</td>\n",
       "      <td>1</td>\n",
       "      <td>0</td>\n",
       "    </tr>\n",
       "    <tr>\n",
       "      <th>...</th>\n",
       "      <td>...</td>\n",
       "      <td>...</td>\n",
       "      <td>...</td>\n",
       "    </tr>\n",
       "    <tr>\n",
       "      <th>2024-12-31 23:35:00</th>\n",
       "      <td>NaN</td>\n",
       "      <td>1</td>\n",
       "      <td>2</td>\n",
       "    </tr>\n",
       "    <tr>\n",
       "      <th>2024-12-31 23:40:00</th>\n",
       "      <td>NaN</td>\n",
       "      <td>1</td>\n",
       "      <td>2</td>\n",
       "    </tr>\n",
       "    <tr>\n",
       "      <th>2024-12-31 23:45:00</th>\n",
       "      <td>NaN</td>\n",
       "      <td>1</td>\n",
       "      <td>2</td>\n",
       "    </tr>\n",
       "    <tr>\n",
       "      <th>2024-12-31 23:50:00</th>\n",
       "      <td>NaN</td>\n",
       "      <td>1</td>\n",
       "      <td>2</td>\n",
       "    </tr>\n",
       "    <tr>\n",
       "      <th>2024-12-31 23:55:00</th>\n",
       "      <td>NaN</td>\n",
       "      <td>1</td>\n",
       "      <td>2</td>\n",
       "    </tr>\n",
       "  </tbody>\n",
       "</table>\n",
       "<p>105408 rows × 3 columns</p>\n",
       "</div>"
      ],
      "text/plain": [
       "                     volume  is_nan  group\n",
       "index                                     \n",
       "2024-01-01 00:00:00     NaN       1      0\n",
       "2024-01-01 00:05:00     NaN       1      0\n",
       "2024-01-01 00:10:00     NaN       1      0\n",
       "2024-01-01 00:15:00     NaN       1      0\n",
       "2024-01-01 00:20:00     NaN       1      0\n",
       "...                     ...     ...    ...\n",
       "2024-12-31 23:35:00     NaN       1      2\n",
       "2024-12-31 23:40:00     NaN       1      2\n",
       "2024-12-31 23:45:00     NaN       1      2\n",
       "2024-12-31 23:50:00     NaN       1      2\n",
       "2024-12-31 23:55:00     NaN       1      2\n",
       "\n",
       "[105408 rows x 3 columns]"
      ]
     },
     "execution_count": 8,
     "metadata": {},
     "output_type": "execute_result"
    }
   ],
   "source": [
    "df = df.set_index('index')\n",
    "df"
   ]
  },
  {
   "cell_type": "code",
   "execution_count": 9,
   "metadata": {},
   "outputs": [
    {
     "data": {
      "text/html": [
       "<div>\n",
       "<style scoped>\n",
       "    .dataframe tbody tr th:only-of-type {\n",
       "        vertical-align: middle;\n",
       "    }\n",
       "\n",
       "    .dataframe tbody tr th {\n",
       "        vertical-align: top;\n",
       "    }\n",
       "\n",
       "    .dataframe thead th {\n",
       "        text-align: right;\n",
       "    }\n",
       "</style>\n",
       "<table border=\"1\" class=\"dataframe\">\n",
       "  <thead>\n",
       "    <tr style=\"text-align: right;\">\n",
       "      <th></th>\n",
       "      <th>volume</th>\n",
       "    </tr>\n",
       "    <tr>\n",
       "      <th>index</th>\n",
       "      <th></th>\n",
       "    </tr>\n",
       "  </thead>\n",
       "  <tbody>\n",
       "    <tr>\n",
       "      <th>2024-01-01 00:00:00</th>\n",
       "      <td>NaN</td>\n",
       "    </tr>\n",
       "    <tr>\n",
       "      <th>2024-01-01 00:05:00</th>\n",
       "      <td>NaN</td>\n",
       "    </tr>\n",
       "    <tr>\n",
       "      <th>2024-01-01 00:10:00</th>\n",
       "      <td>NaN</td>\n",
       "    </tr>\n",
       "    <tr>\n",
       "      <th>2024-01-01 00:15:00</th>\n",
       "      <td>NaN</td>\n",
       "    </tr>\n",
       "    <tr>\n",
       "      <th>2024-01-01 00:20:00</th>\n",
       "      <td>NaN</td>\n",
       "    </tr>\n",
       "    <tr>\n",
       "      <th>...</th>\n",
       "      <td>...</td>\n",
       "    </tr>\n",
       "    <tr>\n",
       "      <th>2024-12-31 23:35:00</th>\n",
       "      <td>NaN</td>\n",
       "    </tr>\n",
       "    <tr>\n",
       "      <th>2024-12-31 23:40:00</th>\n",
       "      <td>NaN</td>\n",
       "    </tr>\n",
       "    <tr>\n",
       "      <th>2024-12-31 23:45:00</th>\n",
       "      <td>NaN</td>\n",
       "    </tr>\n",
       "    <tr>\n",
       "      <th>2024-12-31 23:50:00</th>\n",
       "      <td>NaN</td>\n",
       "    </tr>\n",
       "    <tr>\n",
       "      <th>2024-12-31 23:55:00</th>\n",
       "      <td>NaN</td>\n",
       "    </tr>\n",
       "  </tbody>\n",
       "</table>\n",
       "<p>105408 rows × 1 columns</p>\n",
       "</div>"
      ],
      "text/plain": [
       "                     volume\n",
       "index                      \n",
       "2024-01-01 00:00:00     NaN\n",
       "2024-01-01 00:05:00     NaN\n",
       "2024-01-01 00:10:00     NaN\n",
       "2024-01-01 00:15:00     NaN\n",
       "2024-01-01 00:20:00     NaN\n",
       "...                     ...\n",
       "2024-12-31 23:35:00     NaN\n",
       "2024-12-31 23:40:00     NaN\n",
       "2024-12-31 23:45:00     NaN\n",
       "2024-12-31 23:50:00     NaN\n",
       "2024-12-31 23:55:00     NaN\n",
       "\n",
       "[105408 rows x 1 columns]"
      ]
     },
     "execution_count": 9,
     "metadata": {},
     "output_type": "execute_result"
    }
   ],
   "source": [
    "df = df.drop(['is_nan', 'group'], axis=1)\n",
    "df"
   ]
  },
  {
   "cell_type": "code",
   "execution_count": 10,
   "metadata": {},
   "outputs": [],
   "source": [
    "nan_intervals['duration'] = nan_intervals['end'] - nan_intervals['start']"
   ]
  },
  {
   "cell_type": "code",
   "execution_count": 11,
   "metadata": {},
   "outputs": [
    {
     "data": {
      "text/html": [
       "<div>\n",
       "<style scoped>\n",
       "    .dataframe tbody tr th:only-of-type {\n",
       "        vertical-align: middle;\n",
       "    }\n",
       "\n",
       "    .dataframe tbody tr th {\n",
       "        vertical-align: top;\n",
       "    }\n",
       "\n",
       "    .dataframe thead th {\n",
       "        text-align: right;\n",
       "    }\n",
       "</style>\n",
       "<table border=\"1\" class=\"dataframe\">\n",
       "  <thead>\n",
       "    <tr style=\"text-align: right;\">\n",
       "      <th></th>\n",
       "      <th>start</th>\n",
       "      <th>end</th>\n",
       "      <th>duration</th>\n",
       "    </tr>\n",
       "    <tr>\n",
       "      <th>group</th>\n",
       "      <th></th>\n",
       "      <th></th>\n",
       "      <th></th>\n",
       "    </tr>\n",
       "  </thead>\n",
       "  <tbody>\n",
       "    <tr>\n",
       "      <th>0</th>\n",
       "      <td>2024-01-01 00:00:00</td>\n",
       "      <td>2024-05-10 05:15:00</td>\n",
       "      <td>130 days 05:15:00</td>\n",
       "    </tr>\n",
       "    <tr>\n",
       "      <th>1</th>\n",
       "      <td>2024-05-16 19:15:00</td>\n",
       "      <td>2024-05-17 11:35:00</td>\n",
       "      <td>0 days 16:20:00</td>\n",
       "    </tr>\n",
       "    <tr>\n",
       "      <th>2</th>\n",
       "      <td>2024-05-18 23:20:00</td>\n",
       "      <td>2024-12-31 23:55:00</td>\n",
       "      <td>227 days 00:35:00</td>\n",
       "    </tr>\n",
       "  </tbody>\n",
       "</table>\n",
       "</div>"
      ],
      "text/plain": [
       "                    start                 end          duration\n",
       "group                                                          \n",
       "0     2024-01-01 00:00:00 2024-05-10 05:15:00 130 days 05:15:00\n",
       "1     2024-05-16 19:15:00 2024-05-17 11:35:00   0 days 16:20:00\n",
       "2     2024-05-18 23:20:00 2024-12-31 23:55:00 227 days 00:35:00"
      ]
     },
     "execution_count": 11,
     "metadata": {},
     "output_type": "execute_result"
    }
   ],
   "source": [
    "nan_intervals"
   ]
  },
  {
   "cell_type": "code",
   "execution_count": 30,
   "metadata": {},
   "outputs": [],
   "source": [
    "start, end, duration = nan_intervals.iloc[1]"
   ]
  },
  {
   "cell_type": "code",
   "execution_count": 20,
   "metadata": {},
   "outputs": [
    {
     "data": {
      "text/plain": [
       "Timestamp('2023-12-25 00:00:00')"
      ]
     },
     "execution_count": 20,
     "metadata": {},
     "output_type": "execute_result"
    }
   ],
   "source": [
    "start - pd.Timedelta(days=7)"
   ]
  },
  {
   "cell_type": "code",
   "execution_count": 32,
   "metadata": {},
   "outputs": [
    {
     "data": {
      "text/plain": [
       "<Axes: xlabel='index'>"
      ]
     },
     "execution_count": 32,
     "metadata": {},
     "output_type": "execute_result"
    },
    {
     "data": {
      "image/png": "[encoded data removed]",
      "text/plain": [
       "<Figure size 640x480 with 1 Axes>"
      ]
     },
     "metadata": {},
     "output_type": "display_data"
    }
   ],
   "source": [
    "# последний день перед пустым интервалом\n",
    "df[start - pd.Timedelta(days=7):start][:-1].plot()"
   ]
  },
  {
   "cell_type": "code",
   "execution_count": 64,
   "metadata": {},
   "outputs": [],
   "source": [
    "train = df[~df['volume'].isna()][start -\n",
    "                                 pd.Timedelta(days=7):start][:-1]"
   ]
  },
  {
   "cell_type": "code",
   "execution_count": 69,
   "metadata": {},
   "outputs": [
    {
     "data": {
      "text/html": [
       "<div>\n",
       "<style scoped>\n",
       "    .dataframe tbody tr th:only-of-type {\n",
       "        vertical-align: middle;\n",
       "    }\n",
       "\n",
       "    .dataframe tbody tr th {\n",
       "        vertical-align: top;\n",
       "    }\n",
       "\n",
       "    .dataframe thead th {\n",
       "        text-align: right;\n",
       "    }\n",
       "</style>\n",
       "<table border=\"1\" class=\"dataframe\">\n",
       "  <thead>\n",
       "    <tr style=\"text-align: right;\">\n",
       "      <th></th>\n",
       "      <th>volume</th>\n",
       "      <th>forecast</th>\n",
       "    </tr>\n",
       "    <tr>\n",
       "      <th>index</th>\n",
       "      <th></th>\n",
       "      <th></th>\n",
       "    </tr>\n",
       "  </thead>\n",
       "  <tbody>\n",
       "    <tr>\n",
       "      <th>2024-05-10 05:20:00</th>\n",
       "      <td>30.0</td>\n",
       "      <td>NaN</td>\n",
       "    </tr>\n",
       "    <tr>\n",
       "      <th>2024-05-10 05:25:00</th>\n",
       "      <td>30.0</td>\n",
       "      <td>NaN</td>\n",
       "    </tr>\n",
       "    <tr>\n",
       "      <th>2024-05-10 05:30:00</th>\n",
       "      <td>44.0</td>\n",
       "      <td>NaN</td>\n",
       "    </tr>\n",
       "    <tr>\n",
       "      <th>2024-05-10 05:35:00</th>\n",
       "      <td>40.0</td>\n",
       "      <td>NaN</td>\n",
       "    </tr>\n",
       "    <tr>\n",
       "      <th>2024-05-10 05:40:00</th>\n",
       "      <td>36.0</td>\n",
       "      <td>NaN</td>\n",
       "    </tr>\n",
       "    <tr>\n",
       "      <th>...</th>\n",
       "      <td>...</td>\n",
       "      <td>...</td>\n",
       "    </tr>\n",
       "    <tr>\n",
       "      <th>2024-05-16 18:45:00</th>\n",
       "      <td>24.0</td>\n",
       "      <td>NaN</td>\n",
       "    </tr>\n",
       "    <tr>\n",
       "      <th>2024-05-16 18:50:00</th>\n",
       "      <td>25.0</td>\n",
       "      <td>NaN</td>\n",
       "    </tr>\n",
       "    <tr>\n",
       "      <th>2024-05-16 18:55:00</th>\n",
       "      <td>36.0</td>\n",
       "      <td>NaN</td>\n",
       "    </tr>\n",
       "    <tr>\n",
       "      <th>2024-05-16 19:00:00</th>\n",
       "      <td>38.0</td>\n",
       "      <td>NaN</td>\n",
       "    </tr>\n",
       "    <tr>\n",
       "      <th>2024-05-16 19:05:00</th>\n",
       "      <td>38.0</td>\n",
       "      <td>NaN</td>\n",
       "    </tr>\n",
       "  </tbody>\n",
       "</table>\n",
       "<p>1894 rows × 2 columns</p>\n",
       "</div>"
      ],
      "text/plain": [
       "                     volume  forecast\n",
       "index                                \n",
       "2024-05-10 05:20:00    30.0       NaN\n",
       "2024-05-10 05:25:00    30.0       NaN\n",
       "2024-05-10 05:30:00    44.0       NaN\n",
       "2024-05-10 05:35:00    40.0       NaN\n",
       "2024-05-10 05:40:00    36.0       NaN\n",
       "...                     ...       ...\n",
       "2024-05-16 18:45:00    24.0       NaN\n",
       "2024-05-16 18:50:00    25.0       NaN\n",
       "2024-05-16 18:55:00    36.0       NaN\n",
       "2024-05-16 19:00:00    38.0       NaN\n",
       "2024-05-16 19:05:00    38.0       NaN\n",
       "\n",
       "[1894 rows x 2 columns]"
      ]
     },
     "execution_count": 69,
     "metadata": {},
     "output_type": "execute_result"
    }
   ],
   "source": [
    "train"
   ]
  },
  {
   "cell_type": "code",
   "execution_count": 71,
   "metadata": {},
   "outputs": [
    {
     "data": {
      "text/plain": [
       "Timestamp('2024-05-13 00:00:00')"
      ]
     },
     "execution_count": 71,
     "metadata": {},
     "output_type": "execute_result"
    }
   ],
   "source": [
    "first_timestamp = train.index[-1]\n",
    "train_start = (first_timestamp -\n",
    "               pd.Timedelta(days=first_timestamp.weekday())).normalize()\n",
    "train_start"
   ]
  },
  {
   "cell_type": "code",
   "execution_count": 72,
   "metadata": {},
   "outputs": [],
   "source": [
    "train = train[train_start:]"
   ]
  },
  {
   "cell_type": "code",
   "execution_count": 73,
   "metadata": {},
   "outputs": [
    {
     "name": "stderr",
     "output_type": "stream",
     "text": [
      "d:\\projects\\PycharmProjects\\transportation\\venv\\lib\\site-packages\\statsmodels\\tsa\\base\\tsa_model.py:473: ValueWarning: No frequency information was provided, so inferred frequency 5min will be used.\n",
      "  self._init_dates(dates, freq)\n"
     ]
    }
   ],
   "source": [
    "fit = ExponentialSmoothing(\n",
    "    train['volume'],\n",
    "    trend=None,\n",
    "    seasonal='add',\n",
    "    seasonal_periods=24 * 60 / 5,\n",
    "    damped_trend=False,\n",
    ").fit()"
   ]
  },
  {
   "cell_type": "code",
   "execution_count": 74,
   "metadata": {},
   "outputs": [
    {
     "data": {
      "text/plain": [
       "196"
      ]
     },
     "execution_count": 74,
     "metadata": {},
     "output_type": "execute_result"
    }
   ],
   "source": [
    "nan_counts = (int)((end - start) / pd.Timedelta(minutes=5))\n",
    "nan_counts"
   ]
  },
  {
   "cell_type": "code",
   "execution_count": 75,
   "metadata": {},
   "outputs": [],
   "source": [
    "forecast = pd.DataFrame(pd.Series(fit.forecast(steps=nan_counts)), columns=['forecast'])"
   ]
  },
  {
   "cell_type": "code",
   "execution_count": 76,
   "metadata": {},
   "outputs": [
    {
     "data": {
      "text/html": [
       "<div>\n",
       "<style scoped>\n",
       "    .dataframe tbody tr th:only-of-type {\n",
       "        vertical-align: middle;\n",
       "    }\n",
       "\n",
       "    .dataframe tbody tr th {\n",
       "        vertical-align: top;\n",
       "    }\n",
       "\n",
       "    .dataframe thead th {\n",
       "        text-align: right;\n",
       "    }\n",
       "</style>\n",
       "<table border=\"1\" class=\"dataframe\">\n",
       "  <thead>\n",
       "    <tr style=\"text-align: right;\">\n",
       "      <th></th>\n",
       "      <th>forecast</th>\n",
       "    </tr>\n",
       "  </thead>\n",
       "  <tbody>\n",
       "    <tr>\n",
       "      <th>2024-05-16 19:10:00</th>\n",
       "      <td>13.632353</td>\n",
       "    </tr>\n",
       "    <tr>\n",
       "      <th>2024-05-16 19:15:00</th>\n",
       "      <td>18.612901</td>\n",
       "    </tr>\n",
       "    <tr>\n",
       "      <th>2024-05-16 19:20:00</th>\n",
       "      <td>15.599852</td>\n",
       "    </tr>\n",
       "    <tr>\n",
       "      <th>2024-05-16 19:25:00</th>\n",
       "      <td>25.893519</td>\n",
       "    </tr>\n",
       "    <tr>\n",
       "      <th>2024-05-16 19:30:00</th>\n",
       "      <td>25.580923</td>\n",
       "    </tr>\n",
       "    <tr>\n",
       "      <th>...</th>\n",
       "      <td>...</td>\n",
       "    </tr>\n",
       "    <tr>\n",
       "      <th>2024-05-17 11:05:00</th>\n",
       "      <td>51.116202</td>\n",
       "    </tr>\n",
       "    <tr>\n",
       "      <th>2024-05-17 11:10:00</th>\n",
       "      <td>44.116103</td>\n",
       "    </tr>\n",
       "    <tr>\n",
       "      <th>2024-05-17 11:15:00</th>\n",
       "      <td>55.615096</td>\n",
       "    </tr>\n",
       "    <tr>\n",
       "      <th>2024-05-17 11:20:00</th>\n",
       "      <td>49.613545</td>\n",
       "    </tr>\n",
       "    <tr>\n",
       "      <th>2024-05-17 11:25:00</th>\n",
       "      <td>54.861579</td>\n",
       "    </tr>\n",
       "  </tbody>\n",
       "</table>\n",
       "<p>196 rows × 1 columns</p>\n",
       "</div>"
      ],
      "text/plain": [
       "                      forecast\n",
       "2024-05-16 19:10:00  13.632353\n",
       "2024-05-16 19:15:00  18.612901\n",
       "2024-05-16 19:20:00  15.599852\n",
       "2024-05-16 19:25:00  25.893519\n",
       "2024-05-16 19:30:00  25.580923\n",
       "...                        ...\n",
       "2024-05-17 11:05:00  51.116202\n",
       "2024-05-17 11:10:00  44.116103\n",
       "2024-05-17 11:15:00  55.615096\n",
       "2024-05-17 11:20:00  49.613545\n",
       "2024-05-17 11:25:00  54.861579\n",
       "\n",
       "[196 rows x 1 columns]"
      ]
     },
     "execution_count": 76,
     "metadata": {},
     "output_type": "execute_result"
    }
   ],
   "source": [
    "forecast"
   ]
  },
  {
   "cell_type": "code",
   "execution_count": 77,
   "metadata": {},
   "outputs": [
    {
     "name": "stderr",
     "output_type": "stream",
     "text": [
      "C:\\Users\\riabt\\AppData\\Local\\Temp\\ipykernel_35332\\3107351160.py:1: SettingWithCopyWarning: \n",
      "A value is trying to be set on a copy of a slice from a DataFrame.\n",
      "Try using .loc[row_indexer,col_indexer] = value instead\n",
      "\n",
      "See the caveats in the documentation: https://pandas.pydata.org/pandas-docs/stable/user_guide/indexing.html#returning-a-view-versus-a-copy\n",
      "  train['forecast'] = forecast\n"
     ]
    }
   ],
   "source": [
    "train['forecast'] = forecast\n",
    "forecast['volume'] = train['volume']"
   ]
  },
  {
   "cell_type": "code",
   "execution_count": 78,
   "metadata": {},
   "outputs": [
    {
     "data": {
      "text/plain": [
       "<Axes: >"
      ]
     },
     "execution_count": 78,
     "metadata": {},
     "output_type": "execute_result"
    },
    {
     "data": {
      "image/png": "[encoded data removed]",
      "text/plain": [
       "<Figure size 640x480 with 1 Axes>"
      ]
     },
     "metadata": {},
     "output_type": "display_data"
    }
   ],
   "source": [
    "pd.concat([train, forecast]).plot()"
   ]
  },
  {
   "cell_type": "code",
   "execution_count": 123,
   "metadata": {},
   "outputs": [
    {
     "name": "stdout",
     "output_type": "stream",
     "text": [
      "0\n",
      "1895\n",
      "2323\n"
     ]
    }
   ],
   "source": [
    "def initialize_data(path: str, year: int):\n",
    "    df = pd.read_csv(path)\n",
    "    df = df.set_index('index')\n",
    "    df.index = pd.to_datetime(df.index)\n",
    "    year_range = pd.date_range(\n",
    "        f'{year}-01-01 00:00', f'{year}-12-31 23:55', freq='5Min')\n",
    "    df = df.reindex(year_range)\n",
    "    # df = df.reset_index()\n",
    "\n",
    "    return df\n",
    "\n",
    "\n",
    "def get_na_intervals(df: pd.DataFrame) -> pd.DataFrame:\n",
    "    df['is_nan'] = df['volume'].isna().astype(int)\n",
    "    df['group'] = (df['is_nan'].diff() == 1).cumsum()\n",
    "    df = df.reset_index()\n",
    "    nan_intervals = df[df['is_nan'] == 1].groupby(\n",
    "        'group').agg(start=('index', 'first'), end=('index', 'last'))\n",
    "    df = df.set_index('index')\n",
    "    df = df.drop(['is_nan', 'group'], axis=1)\n",
    "    nan_intervals['duration'] = nan_intervals['end'] - nan_intervals['start']\n",
    "    return nan_intervals\n",
    "\n",
    "df = initialize_data('input-data__19-03__23-28-55.csv', 2024)\n",
    "nan_intervals = get_na_intervals(df)\n",
    "\n",
    "for row in nan_intervals.itertuples():\n",
    "    print(len(df[~df['volume'].isna()][:row.start]))\n",
    "\n",
    "# df[:nan_intervals.iloc[0].start]\n",
    "# df.index"
   ]
  },
  {
   "cell_type": "code",
   "execution_count": 124,
   "metadata": {},
   "outputs": [
    {
     "data": {
      "text/html": [
       "<div>\n",
       "<style scoped>\n",
       "    .dataframe tbody tr th:only-of-type {\n",
       "        vertical-align: middle;\n",
       "    }\n",
       "\n",
       "    .dataframe tbody tr th {\n",
       "        vertical-align: top;\n",
       "    }\n",
       "\n",
       "    .dataframe thead th {\n",
       "        text-align: right;\n",
       "    }\n",
       "</style>\n",
       "<table border=\"1\" class=\"dataframe\">\n",
       "  <thead>\n",
       "    <tr style=\"text-align: right;\">\n",
       "      <th></th>\n",
       "    </tr>\n",
       "  </thead>\n",
       "  <tbody>\n",
       "    <tr>\n",
       "      <th>2024-01-01 00:00:00</th>\n",
       "    </tr>\n",
       "    <tr>\n",
       "      <th>2024-01-01 00:05:00</th>\n",
       "    </tr>\n",
       "    <tr>\n",
       "      <th>2024-01-01 00:10:00</th>\n",
       "    </tr>\n",
       "    <tr>\n",
       "      <th>2024-01-01 00:15:00</th>\n",
       "    </tr>\n",
       "    <tr>\n",
       "      <th>2024-01-01 00:20:00</th>\n",
       "    </tr>\n",
       "    <tr>\n",
       "      <th>...</th>\n",
       "    </tr>\n",
       "    <tr>\n",
       "      <th>2024-12-31 23:35:00</th>\n",
       "    </tr>\n",
       "    <tr>\n",
       "      <th>2024-12-31 23:40:00</th>\n",
       "    </tr>\n",
       "    <tr>\n",
       "      <th>2024-12-31 23:45:00</th>\n",
       "    </tr>\n",
       "    <tr>\n",
       "      <th>2024-12-31 23:50:00</th>\n",
       "    </tr>\n",
       "    <tr>\n",
       "      <th>2024-12-31 23:55:00</th>\n",
       "    </tr>\n",
       "  </tbody>\n",
       "</table>\n",
       "<p>105408 rows × 0 columns</p>\n",
       "</div>"
      ],
      "text/plain": [
       "Empty DataFrame\n",
       "Columns: []\n",
       "Index: [2024-01-01 00:00:00, 2024-01-01 00:05:00, 2024-01-01 00:10:00, 2024-01-01 00:15:00, 2024-01-01 00:20:00, 2024-01-01 00:25:00, 2024-01-01 00:30:00, 2024-01-01 00:35:00, 2024-01-01 00:40:00, 2024-01-01 00:45:00, 2024-01-01 00:50:00, 2024-01-01 00:55:00, 2024-01-01 01:00:00, 2024-01-01 01:05:00, 2024-01-01 01:10:00, 2024-01-01 01:15:00, 2024-01-01 01:20:00, 2024-01-01 01:25:00, 2024-01-01 01:30:00, 2024-01-01 01:35:00, 2024-01-01 01:40:00, 2024-01-01 01:45:00, 2024-01-01 01:50:00, 2024-01-01 01:55:00, 2024-01-01 02:00:00, 2024-01-01 02:05:00, 2024-01-01 02:10:00, 2024-01-01 02:15:00, 2024-01-01 02:20:00, 2024-01-01 02:25:00, 2024-01-01 02:30:00, 2024-01-01 02:35:00, 2024-01-01 02:40:00, 2024-01-01 02:45:00, 2024-01-01 02:50:00, 2024-01-01 02:55:00, 2024-01-01 03:00:00, 2024-01-01 03:05:00, 2024-01-01 03:10:00, 2024-01-01 03:15:00, 2024-01-01 03:20:00, 2024-01-01 03:25:00, 2024-01-01 03:30:00, 2024-01-01 03:35:00, 2024-01-01 03:40:00, 2024-01-01 03:45:00, 2024-01-01 03:50:00, 2024-01-01 03:55:00, 2024-01-01 04:00:00, 2024-01-01 04:05:00, 2024-01-01 04:10:00, 2024-01-01 04:15:00, 2024-01-01 04:20:00, 2024-01-01 04:25:00, 2024-01-01 04:30:00, 2024-01-01 04:35:00, 2024-01-01 04:40:00, 2024-01-01 04:45:00, 2024-01-01 04:50:00, 2024-01-01 04:55:00, 2024-01-01 05:00:00, 2024-01-01 05:05:00, 2024-01-01 05:10:00, 2024-01-01 05:15:00, 2024-01-01 05:20:00, 2024-01-01 05:25:00, 2024-01-01 05:30:00, 2024-01-01 05:35:00, 2024-01-01 05:40:00, 2024-01-01 05:45:00, 2024-01-01 05:50:00, 2024-01-01 05:55:00, 2024-01-01 06:00:00, 2024-01-01 06:05:00, 2024-01-01 06:10:00, 2024-01-01 06:15:00, 2024-01-01 06:20:00, 2024-01-01 06:25:00, 2024-01-01 06:30:00, 2024-01-01 06:35:00, 2024-01-01 06:40:00, 2024-01-01 06:45:00, 2024-01-01 06:50:00, 2024-01-01 06:55:00, 2024-01-01 07:00:00, 2024-01-01 07:05:00, 2024-01-01 07:10:00, 2024-01-01 07:15:00, 2024-01-01 07:20:00, 2024-01-01 07:25:00, 2024-01-01 07:30:00, 2024-01-01 07:35:00, 2024-01-01 07:40:00, 2024-01-01 07:45:00, 2024-01-01 07:50:00, 2024-01-01 07:55:00, 2024-01-01 08:00:00, 2024-01-01 08:05:00, 2024-01-01 08:10:00, 2024-01-01 08:15:00, ...]\n",
       "\n",
       "[105408 rows x 0 columns]"
      ]
     },
     "execution_count": 124,
     "metadata": {},
     "output_type": "execute_result"
    }
   ],
   "source": [
    "pd.DataFrame(index=df.index)"
   ]
  }
 ],
 "metadata": {
  "language_info": {
   "name": "python"
  }
 },
 "nbformat": 4,
 "nbformat_minor": 2
}
